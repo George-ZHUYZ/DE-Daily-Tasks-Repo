{
 "cells": [
  {
   "cell_type": "code",
   "execution_count": null,
   "id": "40ff827b-85ae-454c-9a13-949a798629e9",
   "metadata": {},
   "outputs": [],
   "source": [
    "import findspark\n",
    "findspark.init()\n",
    "\n",
    "from pyspark.sql import SparkSession\n",
    "import pyspark.sql.functions as f"
   ]
  },
  {
   "cell_type": "code",
   "execution_count": null,
   "id": "c0698d04-b869-46c2-9265-4965c782611d",
   "metadata": {},
   "outputs": [],
   "source": [
    "spark = SparkSession \\\n",
    "    .builder \\\n",
    "    .appName(\"Spark_movies_links_task\") \\\n",
    "    .config(\"spark.master\", \"spark://ZHUYANZHAO-HWPC.localdomain:7077\") \\\n",
    "    .config(\"spark.jars.packages\", \"mysql:mysql-connector-java:8.0.22\") \\\n",
    "    .config(\"spark.executor.cores\", \"2\") \\\n",
    "    .config(\"spark.executor.num\", \"1\") \\\n",
    "    .getOrCreate()"
   ]
  },
  {
   "cell_type": "code",
   "execution_count": null,
   "id": "4e6e3507-ecbf-4312-a2b5-8faa6d1bf213",
   "metadata": {},
   "outputs": [],
   "source": [
    "df_links = spark.read.option(\"header\",\"true\").csv(\"./links.csv\")\n",
    "df_links = df_links.withColumnRenamed(\"movieId\", \"movie_id\") \\\n",
    ".withColumnRenamed(\"imdbId\", \"imdb_id\") \\\n",
    ".withColumnRenamed(\"tmdbId\", \"tmdb_id\")\n",
    "df_links = df_links.na.drop(subset=['tmdb_id', 'imdb_id'])\n",
    "df_links.count()\n",
    "df_links.printSchema()\n",
    "df_links.show(5, truncate=False)"
   ]
  },
  {
   "cell_type": "code",
   "execution_count": null,
   "id": "0a58c705-266f-4b80-9bc8-a90f1c8b4b8b",
   "metadata": {},
   "outputs": [],
   "source": [
    "df_links.select(*df_links.columns).write.format(\"jdbc\") \\\n",
    "    .option(\"url\", \"jdbc:mysql://localhost:3306/spark_movies\") \\\n",
    "    .option(\"driver\", \"com.mysql.cj.jdbc.Driver\").option(\"dbtable\", \"movie_links\") \\\n",
    "    .option(\"user\", \"root\").option(\"password\", \"zhuyz928\").save()"
   ]
  }
 ],
 "metadata": {
  "kernelspec": {
   "display_name": "Python 3 (ipykernel)",
   "language": "python",
   "name": "python3"
  },
  "language_info": {
   "codemirror_mode": {
    "name": "ipython",
    "version": 3
   },
   "file_extension": ".py",
   "mimetype": "text/x-python",
   "name": "python",
   "nbconvert_exporter": "python",
   "pygments_lexer": "ipython3",
   "version": "3.9.7"
  }
 },
 "nbformat": 4,
 "nbformat_minor": 5
}
