{
 "cells": [
  {
   "cell_type": "code",
   "execution_count": 1,
   "id": "a4420cbb-8011-4806-aa00-2a991f61c57a",
   "metadata": {},
   "outputs": [],
   "source": [
    "from sqlalchemy import create_engine\n",
    "import pandas as pd\n",
    "import json"
   ]
  },
  {
   "cell_type": "code",
   "execution_count": 2,
   "id": "83f70f77-dda6-4b97-b67d-9e4169264ac8",
   "metadata": {},
   "outputs": [],
   "source": [
    "def db_Connection():\n",
    "    db_username = 'root'\n",
    "    db_password = 'zhuyz928'\n",
    "    db_hostaddress = 'localhost:3306'\n",
    "    \n",
    "    try:\n",
    "        db_connection_str = 'mysql+pymysql://' + db_username + ':' + db_password + '@' + db_hostaddress + '/spark_movies'\n",
    "        db_connection = create_engine(db_connection_str)\n",
    "    except mysql.connector.Error as err:\n",
    "        print(\"Something went wrong: {}\".format(err))\n",
    "        return None\n",
    "    \n",
    "    return db_connection"
   ]
  },
  {
   "cell_type": "code",
   "execution_count": 3,
   "id": "d82dce34-2139-48f5-9646-40dcc3d77e52",
   "metadata": {},
   "outputs": [],
   "source": [
    "def db_query(query, my_params):\n",
    "    \n",
    "    # Create the connection to DATABASE\n",
    "    my_connection = db_Connection()\n",
    "    \n",
    "    if my_connection:\n",
    "        my_data = pd.read_sql(query, my_connection, params = my_params)\n",
    "        print(my_data)\n",
    "    else:\n",
    "        print('Failed to connect the DATABASE!!!')"
   ]
  },
  {
   "cell_type": "code",
   "execution_count": 4,
   "id": "66fd9875-8432-4e80-8d49-ab753827931d",
   "metadata": {},
   "outputs": [],
   "source": [
    "def parse_input(my_input):\n",
    "    columns = list(my_input.keys())\n",
    "    values = []\n",
    "\n",
    "    query = \"\"\"SELECT * FROM movies m\n",
    "        LEFT JOIN movie_genres mg ON m.tmdb_id = mg.movie_tmdb_id\n",
    "        LEFT JOIN movie_prod_companies mpc ON m.tmdb_id  = mpc.movie_tmdb_id\n",
    "        LEFT JOIN movie_prod_countries mpc2 ON m.tmdb_id = mpc2.movie_tmdb_id\n",
    "    \"\"\"\n",
    "\n",
    "    if len(columns) > 0:\n",
    "        columns = [column + ' = %s' for column in columns]\n",
    "        query += \"WHERE \" + \" AND \".join(columns)\n",
    "        values = list(my_input.values())\n",
    "\n",
    "    db_query(query, values)"
   ]
  },
  {
   "cell_type": "code",
   "execution_count": 5,
   "id": "a1ff0367-70ca-42dc-a8ba-b8626cdd730b",
   "metadata": {},
   "outputs": [],
   "source": [
    "def api_init():\n",
    "    init_input = input(\n",
    "        \"\"\"\n",
    "        Please enter the query params, currently only support the exactly query mode.\n",
    "\n",
    "        * The input should meet the json format, e.g. {\"tmdb_id\": \"862\"} or {\"company_id\": \"420\", \"country_code\": \"US\"}.\n",
    "        \"\"\"\n",
    "    )\n",
    "\n",
    "    if init_input != '':\n",
    "        my_input = json.loads(init_input)\n",
    "\n",
    "        if type(my_input) is dict:\n",
    "            parse_input(my_input)\n",
    "        else:\n",
    "            print('Invalid input!!!')\n",
    "    else:\n",
    "        print('Invalid input!!!')"
   ]
  },
  {
   "cell_type": "code",
   "execution_count": 7,
   "id": "1317114c-3204-4843-b904-d2e9486fb5f6",
   "metadata": {},
   "outputs": [
    {
     "name": "stdin",
     "output_type": "stream",
     "text": [
      "\n",
      "        Please enter the query params, currently only support the exactly query mode.\n",
      "\n",
      "        * The input should meet the json format, e.g. {\"tmdb_id\": \"862\"} or {\"company_id\": \"420\", \"country_code\": \"US\"}.\n",
      "         {\"tmdb_id\": \"862\"}\n"
     ]
    },
    {
     "name": "stdout",
     "output_type": "stream",
     "text": [
      "   adult    budget                              homepage tmdb_id imdb_id  \\\n",
      "0  False  30000000  http://toystory.disney.com/toy-story     862  114709   \n",
      "1  False  30000000  http://toystory.disney.com/toy-story     862  114709   \n",
      "2  False  30000000  http://toystory.disney.com/toy-story     862  114709   \n",
      "\n",
      "  original_language original_title  \\\n",
      "0                en      Toy Story   \n",
      "1                en      Toy Story   \n",
      "2                en      Toy Story   \n",
      "\n",
      "                                            overview popularity  \\\n",
      "0  Led by Woody, Andy's toys live happily in his ...  21.946943   \n",
      "1  Led by Woody, Andy's toys live happily in his ...  21.946943   \n",
      "2  Led by Woody, Andy's toys live happily in his ...  21.946943   \n",
      "\n",
      "                        poster_path  ... vote_count movie_tmdb_id genre_id  \\\n",
      "0  /rhIRbceoE9lR4veEXuwCC2wARtG.jpg  ...       5415           862    10751   \n",
      "1  /rhIRbceoE9lR4veEXuwCC2wARtG.jpg  ...       5415           862       35   \n",
      "2  /rhIRbceoE9lR4veEXuwCC2wARtG.jpg  ...       5415           862       16   \n",
      "\n",
      "        name movie_tmdb_id company_id                     name movie_tmdb_id  \\\n",
      "0     Family           862          3  Pixar Animation Studios           862   \n",
      "1     Comedy           862          3  Pixar Animation Studios           862   \n",
      "2  Animation           862          3  Pixar Animation Studios           862   \n",
      "\n",
      "  country_code                      name  \n",
      "0           US  United States of America  \n",
      "1           US  United States of America  \n",
      "2           US  United States of America  \n",
      "\n",
      "[3 rows x 28 columns]\n"
     ]
    }
   ],
   "source": [
    "api_init()"
   ]
  },
  {
   "cell_type": "code",
   "execution_count": null,
   "id": "8b40f13e-4865-4380-a802-cfbf00744928",
   "metadata": {},
   "outputs": [],
   "source": []
  }
 ],
 "metadata": {
  "kernelspec": {
   "display_name": "Python 3 (ipykernel)",
   "language": "python",
   "name": "python3"
  },
  "language_info": {
   "codemirror_mode": {
    "name": "ipython",
    "version": 3
   },
   "file_extension": ".py",
   "mimetype": "text/x-python",
   "name": "python",
   "nbconvert_exporter": "python",
   "pygments_lexer": "ipython3",
   "version": "3.9.7"
  }
 },
 "nbformat": 4,
 "nbformat_minor": 5
}
