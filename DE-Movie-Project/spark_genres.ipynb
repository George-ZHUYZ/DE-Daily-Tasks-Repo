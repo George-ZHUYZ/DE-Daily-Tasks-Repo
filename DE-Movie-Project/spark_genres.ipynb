{
 "cells": [
  {
   "cell_type": "code",
   "execution_count": null,
   "id": "6bd09455-6f05-4670-bb37-96efe5575b8e",
   "metadata": {},
   "outputs": [],
   "source": [
    "import findspark\n",
    "findspark.init()\n",
    "\n",
    "from pyspark.sql import SparkSession\n",
    "import pyspark.sql.functions as f\n",
    "import pyspark.sql.types as t"
   ]
  },
  {
   "cell_type": "code",
   "execution_count": null,
   "id": "43422c20-b185-436c-a05e-ac45501bc2d9",
   "metadata": {},
   "outputs": [],
   "source": [
    "spark = SparkSession \\\n",
    "    .builder \\\n",
    "    .appName(\"Spark_movies_genres_task\") \\\n",
    "    .config(\"spark.master\", \"spark://ZHUYANZHAO-HWPC.localdomain:7077\") \\\n",
    "    .config(\"spark.jars.packages\", \"mysql:mysql-connector-java:8.0.22\") \\\n",
    "    .config(\"spark.executor.cores\", \"2\") \\\n",
    "    .config(\"spark.executor.num\", \"1\") \\\n",
    "    .getOrCreate()"
   ]
  },
  {
   "cell_type": "code",
   "execution_count": null,
   "id": "15ad04bd-b146-494d-b3b3-783707109ef7",
   "metadata": {},
   "outputs": [],
   "source": [
    "df_movies = spark.read.option(\"header\",\"true\").csv(\"./movies_metadata.csv\")\n",
    "df_movie_genres = df_movies.select(f.col(\"id\").alias(\"movie_tmdb_id\"), f.col(\"genres\"))\n",
    "df_movie_genres = df_movie_genres.withColumn(\"genres\", f.from_json(f.col(\"genres\"), \"array<string>\"))\n",
    "df_movie_genres = df_movie_genres.withColumn(\"genres\", f.explode(\"genres\"))\n",
    "df_movie_genres.printSchema()\n",
    "df_movie_genres.show(10, truncate=False)"
   ]
  },
  {
   "cell_type": "code",
   "execution_count": null,
   "id": "a0e50e57-f720-41cb-a52c-0aaac8156b9e",
   "metadata": {},
   "outputs": [],
   "source": [
    "schema = t.StructType(\n",
    "    [\n",
    "        t.StructField('id', t.StringType(), True),\n",
    "        t.StructField('name', t.StringType(), True)\n",
    "    ]\n",
    ")\n",
    "df_movie_genres = df_movie_genres.withColumn('genres', f.from_json('genres', schema))\\\n",
    ".select(f.col('movie_tmdb_id').cast('int'), f.col('genres.id').cast('int').alias('genre_id'), f.col('genres.name'))\n",
    "df_movie_genres = df_movie_genres.na.drop('any')\n",
    "df_movie_genres.printSchema()\n",
    "df_movie_genres.show(10, truncate=False)"
   ]
  },
  {
   "cell_type": "code",
   "execution_count": null,
   "id": "61addab2-70a6-49de-9004-507a4187756f",
   "metadata": {},
   "outputs": [],
   "source": [
    "df_movie_genres.select(*df_movie_genres.columns).write.format(\"jdbc\") \\\n",
    "    .option(\"url\", \"jdbc:mysql://localhost:3306/spark_movies\") \\\n",
    "    .option(\"driver\", \"com.mysql.cj.jdbc.Driver\").option(\"dbtable\", \"movie_genres\") \\\n",
    "    .option(\"user\", \"root\").option(\"password\", \"zhuyz928\").save()"
   ]
  },
  {
   "cell_type": "code",
   "execution_count": null,
   "id": "1363d5cc-2dad-45ea-b522-8d34c2014e34",
   "metadata": {},
   "outputs": [],
   "source": [
    "df_genres = df_movie_genres.select(['genre_id', 'name']).distinct()\n",
    "df_genres.sort(f.col('genre_id')).show(df_genres.count())"
   ]
  },
  {
   "cell_type": "code",
   "execution_count": null,
   "id": "82599648-0761-4f44-96c2-d7f13465ed36",
   "metadata": {},
   "outputs": [],
   "source": [
    "df_genres.select(*df_genres.columns).write.format(\"jdbc\") \\\n",
    "    .option(\"url\", \"jdbc:mysql://localhost:3306/spark_movies\") \\\n",
    "    .option(\"driver\",\"com.mysql.cj.jdbc.Driver\").option(\"dbtable\", \"genres\") \\\n",
    "    .option(\"user\", \"root\").option(\"password\", \"zhuyz928\").save()"
   ]
  }
 ],
 "metadata": {
  "kernelspec": {
   "display_name": "Python 3 (ipykernel)",
   "language": "python",
   "name": "python3"
  },
  "language_info": {
   "codemirror_mode": {
    "name": "ipython",
    "version": 3
   },
   "file_extension": ".py",
   "mimetype": "text/x-python",
   "name": "python",
   "nbconvert_exporter": "python",
   "pygments_lexer": "ipython3",
   "version": "3.9.7"
  }
 },
 "nbformat": 4,
 "nbformat_minor": 5
}
