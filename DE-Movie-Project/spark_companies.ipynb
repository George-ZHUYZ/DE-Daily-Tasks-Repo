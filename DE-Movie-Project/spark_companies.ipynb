{
 "cells": [
  {
   "cell_type": "code",
   "execution_count": null,
   "id": "484c081b-3ca0-4a46-89bb-5cced8eeb50f",
   "metadata": {},
   "outputs": [],
   "source": [
    "import findspark\n",
    "findspark.init()\n",
    "\n",
    "from pyspark.sql import SparkSession\n",
    "import pyspark.sql.functions as f\n",
    "import pyspark.sql.types as t"
   ]
  },
  {
   "cell_type": "code",
   "execution_count": null,
   "id": "eab1f168-4b23-4512-aefc-2697670920d3",
   "metadata": {},
   "outputs": [],
   "source": [
    "spark = SparkSession \\\n",
    "    .builder \\\n",
    "    .appName(\"Spark_movies_companies_task\") \\\n",
    "    .config(\"spark.master\", \"spark://ZHUYANZHAO-HWPC.localdomain:7077\") \\\n",
    "    .config(\"spark.jars.packages\", \"mysql:mysql-connector-java:8.0.22\") \\\n",
    "    .config(\"spark.executor.cores\", \"2\") \\\n",
    "    .config(\"spark.executor.num\", \"1\") \\\n",
    "    .getOrCreate()"
   ]
  },
  {
   "cell_type": "code",
   "execution_count": null,
   "id": "273928b1-396c-43af-9e45-517a59b38d75",
   "metadata": {},
   "outputs": [],
   "source": [
    "df_movies = spark.read.option(\"header\",\"true\").csv(\"./movies_metadata.csv\")\n",
    "df_movie_prod_companies = df_movies.select(f.col(\"id\").alias(\"movie_tmdb_id\"), f.col(\"production_companies\"))\n",
    "df_movie_prod_companies = df_movie_prod_companies.withColumn(\"production_companies\", f.from_json(f.col(\"production_companies\"), \"array<string>\"))\n",
    "df_movie_prod_companies = df_movie_prod_companies.na.drop(subset=['production_companies'])\n",
    "df_movie_prod_companies = df_movie_prod_companies.withColumn(\"production_companies\", f.explode(\"production_companies\"))\n",
    "df_movie_prod_companies.printSchema()\n",
    "df_movie_prod_companies.show(10, truncate=False)"
   ]
  },
  {
   "cell_type": "code",
   "execution_count": null,
   "id": "5200bda2-d0a8-4d7d-891a-1cfde265205d",
   "metadata": {},
   "outputs": [],
   "source": [
    "schema = t.StructType(\n",
    "    [\n",
    "        t.StructField('id', t.StringType(), True),\n",
    "        t.StructField('name', t.StringType(), True)\n",
    "    ]\n",
    ")\n",
    "df_movie_prod_companies = df_movie_prod_companies.withColumn('production_companies', f.from_json('production_companies', schema))\\\n",
    ".select(f.col('movie_tmdb_id'), f.col('production_companies.id').alias('company_id'), f.col('production_companies.name'))\n",
    "df_movie_prod_companies = df_movie_prod_companies.na.drop('any')\n",
    "df_movie_prod_companies.printSchema()\n",
    "df_movie_prod_companies.show(10, truncate=False)"
   ]
  },
  {
   "cell_type": "code",
   "execution_count": null,
   "id": "f8d5542a-5925-457a-b45e-bd3bcf7d2df0",
   "metadata": {},
   "outputs": [],
   "source": [
    "df_movie_prod_companies.select(*df_movie_prod_companies.columns).write.format(\"jdbc\") \\\n",
    "    .option(\"url\", \"jdbc:mysql://localhost:3306/spark_movies\") \\\n",
    "    .option(\"driver\", \"com.mysql.cj.jdbc.Driver\").option(\"dbtable\", \"movie_prod_companies\") \\\n",
    "    .option(\"user\", \"root\").option(\"password\", \"zhuyz928\").save()"
   ]
  },
  {
   "cell_type": "code",
   "execution_count": null,
   "id": "4fa9a006-861f-4bf1-9c60-fa87d698be05",
   "metadata": {},
   "outputs": [],
   "source": [
    "df_prod_companies = df_movie_prod_companies.select(['company_id', 'name']).distinct()\n",
    "df_prod_companies.sort(f.col('company_id'))"
   ]
  },
  {
   "cell_type": "code",
   "execution_count": null,
   "id": "ec92e436-13ac-48f4-9c6c-485fb9f9ed0c",
   "metadata": {},
   "outputs": [],
   "source": [
    "df_prod_companies.select(*df_prod_companies.columns).write.format(\"jdbc\") \\\n",
    "    .option(\"url\", \"jdbc:mysql://localhost:3306/spark_movies\") \\\n",
    "    .option(\"driver\",\"com.mysql.cj.jdbc.Driver\").option(\"dbtable\", \"prod_companies\") \\\n",
    "    .option(\"user\", \"root\").option(\"password\", \"zhuyz928\").save()"
   ]
  }
 ],
 "metadata": {
  "kernelspec": {
   "display_name": "Python 3 (ipykernel)",
   "language": "python",
   "name": "python3"
  },
  "language_info": {
   "codemirror_mode": {
    "name": "ipython",
    "version": 3
   },
   "file_extension": ".py",
   "mimetype": "text/x-python",
   "name": "python",
   "nbconvert_exporter": "python",
   "pygments_lexer": "ipython3",
   "version": "3.9.7"
  }
 },
 "nbformat": 4,
 "nbformat_minor": 5
}
