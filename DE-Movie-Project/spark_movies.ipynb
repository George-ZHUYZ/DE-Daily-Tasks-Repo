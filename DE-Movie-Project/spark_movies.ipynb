{
 "cells": [
  {
   "cell_type": "code",
   "execution_count": null,
   "id": "33ba37c3-da0c-4495-a427-10499952bbb6",
   "metadata": {},
   "outputs": [],
   "source": [
    "import findspark\n",
    "findspark.init()\n",
    "\n",
    "from pyspark.sql import SparkSession\n",
    "import pyspark.sql.functions as f"
   ]
  },
  {
   "cell_type": "code",
   "execution_count": null,
   "id": "1f1e8038-346b-436d-87c2-582fd32c0fa4",
   "metadata": {},
   "outputs": [],
   "source": [
    "spark = SparkSession \\\n",
    "    .builder \\\n",
    "    .appName(\"Spark_movies_task\") \\\n",
    "    .config(\"spark.master\", \"spark://ZHUYANZHAO-HWPC.localdomain:7077\") \\\n",
    "    .config(\"spark.jars.packages\", \"mysql:mysql-connector-java:8.0.22\") \\\n",
    "    .config(\"spark.executor.cores\", \"2\") \\\n",
    "    .config(\"spark.executor.num\", \"1\") \\\n",
    "    .getOrCreate()"
   ]
  },
  {
   "cell_type": "code",
   "execution_count": null,
   "id": "8b2ed385-364e-48c6-85a6-726d31c47cb8",
   "metadata": {},
   "outputs": [],
   "source": [
    "df_movies = spark.read.option(\"header\",\"true\").csv(\"./movies_metadata.csv\")\n",
    "df_movies = df_movies.withColumnRenamed(\"id\", \"tmdb_id\") \\\n",
    ".withColumn('imdb_id', f.col('imdb_id').substr(f.lit(4), f.length('imdb_id'))) \\\n",
    ".drop('belongs_to_collection', 'genres', 'production_companies', 'production_countries', 'spoken_languages') \\\n",
    ".na.drop(subset=['tmdb_id'])\n",
    "df_movies.printSchema()\n",
    "df_movies.show(5)"
   ]
  },
  {
   "cell_type": "code",
   "execution_count": null,
   "id": "d1603acc-e560-4837-af5c-48615cc53f65",
   "metadata": {},
   "outputs": [],
   "source": [
    "df_movies.select(*df_movies.columns).write.format(\"jdbc\") \\\n",
    "    .option(\"url\", \"jdbc:mysql://localhost:3306/spark_movies\") \\\n",
    "    .option(\"driver\", \"com.mysql.cj.jdbc.Driver\").option(\"dbtable\", \"movies\") \\\n",
    "    .option(\"user\", \"root\").option(\"password\", \"zhuyz928\").save()"
   ]
  }
 ],
 "metadata": {
  "kernelspec": {
   "display_name": "Python 3 (ipykernel)",
   "language": "python",
   "name": "python3"
  },
  "language_info": {
   "codemirror_mode": {
    "name": "ipython",
    "version": 3
   },
   "file_extension": ".py",
   "mimetype": "text/x-python",
   "name": "python",
   "nbconvert_exporter": "python",
   "pygments_lexer": "ipython3",
   "version": "3.9.7"
  }
 },
 "nbformat": 4,
 "nbformat_minor": 5
}
