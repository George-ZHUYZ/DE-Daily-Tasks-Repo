{
 "cells": [
  {
   "cell_type": "code",
   "execution_count": null,
   "id": "bcef1aee-73ab-454b-b3cb-ea813197f2c8",
   "metadata": {},
   "outputs": [],
   "source": [
    "import findspark\n",
    "findspark.init()\n",
    "\n",
    "from pyspark.sql import SparkSession\n",
    "import pyspark.sql.functions as f\n",
    "import pyspark.sql.types as t"
   ]
  },
  {
   "cell_type": "code",
   "execution_count": null,
   "id": "b4c54488-0ccf-4a18-b574-c1336dec6f59",
   "metadata": {},
   "outputs": [],
   "source": [
    "spark = SparkSession \\\n",
    "    .builder \\\n",
    "    .appName(\"Spark_movies_countries_task\") \\\n",
    "    .config(\"spark.master\", \"spark://ZHUYANZHAO-HWPC.localdomain:7077\") \\\n",
    "    .config(\"spark.jars.packages\", \"mysql:mysql-connector-java:8.0.22\") \\\n",
    "    .config(\"spark.executor.cores\", \"2\") \\\n",
    "    .config(\"spark.executor.num\", \"1\") \\\n",
    "    .getOrCreate()"
   ]
  },
  {
   "cell_type": "code",
   "execution_count": null,
   "id": "98424e4a-4417-4ed1-9cc3-8db5df6f370d",
   "metadata": {},
   "outputs": [],
   "source": [
    "df_movies = spark.read.option(\"header\",\"true\").csv(\"./movies_metadata.csv\")\n",
    "df_movie_prod_countries = df_movies.select(f.col(\"id\").alias(\"movie_tmdb_id\"), f.col(\"production_countries\"))\n",
    "df_movie_prod_countries = df_movie_prod_countries.withColumn(\"production_countries\", f.from_json(f.col(\"production_countries\"), \"array<string>\"))\n",
    "df_movie_prod_countries = df_movie_prod_countries.na.drop(subset=['production_countries'])\n",
    "df_movie_prod_countries = df_movie_prod_countries.withColumn(\"production_countries\", f.explode(\"production_countries\"))\n",
    "df_movie_prod_countries.printSchema()\n",
    "df_movie_prod_countries.show(10, truncate=False)"
   ]
  },
  {
   "cell_type": "code",
   "execution_count": null,
   "id": "17a7b67e-5927-4a30-8359-65c6bd45409e",
   "metadata": {},
   "outputs": [],
   "source": [
    "schema = t.StructType(\n",
    "    [\n",
    "        t.StructField('iso_3166_1', t.StringType(), True),\n",
    "        t.StructField('name', t.StringType(), True)\n",
    "    ]\n",
    ")\n",
    "df_movie_prod_countries = df_movie_prod_countries.withColumn('production_countries', f.from_json('production_countries', schema))\\\n",
    ".select(f.col('movie_tmdb_id'), f.col('production_countries.iso_3166_1').alias('country_code'), f.col('production_countries.name'))\n",
    "df_movie_prod_countries = df_movie_prod_countries.na.drop('any')\n",
    "df_movie_prod_countries.printSchema()\n",
    "df_movie_prod_countries.show(10, truncate=False)"
   ]
  },
  {
   "cell_type": "code",
   "execution_count": null,
   "id": "c08d0230-33a7-48c8-9e3a-88c11cf23c9a",
   "metadata": {},
   "outputs": [],
   "source": [
    "df_movie_prod_countries.select(*df_movie_prod_countries.columns).write.format(\"jdbc\") \\\n",
    "    .option(\"url\", \"jdbc:mysql://localhost:3306/spark_movies\") \\\n",
    "    .option(\"driver\", \"com.mysql.cj.jdbc.Driver\").option(\"dbtable\", \"movie_prod_countries\") \\\n",
    "    .option(\"user\", \"root\").option(\"password\", \"zhuyz928\").save()"
   ]
  },
  {
   "cell_type": "code",
   "execution_count": null,
   "id": "69f73971-bc75-453c-96bf-cd005e7b5f79",
   "metadata": {},
   "outputs": [],
   "source": [
    "df_prod_countries = df_movie_prod_countries.select(['country_code', 'name']).distinct()\n",
    "df_prod_countries.sort(f.col('country_code'))"
   ]
  },
  {
   "cell_type": "code",
   "execution_count": null,
   "id": "a2b7b51e-552a-4da4-ba47-5d14cbac4ec8",
   "metadata": {},
   "outputs": [],
   "source": [
    "df_prod_countries.select(*df_prod_countries.columns).write.format(\"jdbc\") \\\n",
    "    .option(\"url\", \"jdbc:mysql://localhost:3306/spark_movies\") \\\n",
    "    .option(\"driver\",\"com.mysql.cj.jdbc.Driver\").option(\"dbtable\", \"prod_countries\") \\\n",
    "    .option(\"user\", \"root\").option(\"password\", \"zhuyz928\").save()"
   ]
  }
 ],
 "metadata": {
  "kernelspec": {
   "display_name": "Python 3 (ipykernel)",
   "language": "python",
   "name": "python3"
  },
  "language_info": {
   "codemirror_mode": {
    "name": "ipython",
    "version": 3
   },
   "file_extension": ".py",
   "mimetype": "text/x-python",
   "name": "python",
   "nbconvert_exporter": "python",
   "pygments_lexer": "ipython3",
   "version": "3.9.7"
  }
 },
 "nbformat": 4,
 "nbformat_minor": 5
}
