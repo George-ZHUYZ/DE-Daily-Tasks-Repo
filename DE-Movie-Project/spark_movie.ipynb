{
 "cells": [
  {
   "cell_type": "code",
   "execution_count": 1,
   "id": "c4c5c5e6-e97e-41c0-a7c9-94c0551c3681",
   "metadata": {},
   "outputs": [],
   "source": [
    "import findspark\n",
    "findspark.init()\n",
    "\n",
    "from pyspark.sql import SparkSession"
   ]
  },
  {
   "cell_type": "code",
   "execution_count": 3,
   "id": "92e1897b-1c36-4a90-86bc-9c4d5421a0b2",
   "metadata": {},
   "outputs": [
    {
     "name": "stderr",
     "output_type": "stream",
     "text": [
      "22/06/18 16:47:12 WARN Utils: Your hostname, ZHUYANZHAO-HWPC resolves to a loopback address: 127.0.1.1; using 172.27.5.87 instead (on interface eth0)\n",
      "22/06/18 16:47:12 WARN Utils: Set SPARK_LOCAL_IP if you need to bind to another address\n",
      "WARNING: An illegal reflective access operation has occurred\n",
      "WARNING: Illegal reflective access by org.apache.spark.unsafe.Platform (file:/home/george/spark/spark-3.2.1-bin-hadoop3.2/jars/spark-unsafe_2.12-3.2.1.jar) to constructor java.nio.DirectByteBuffer(long,int)\n",
      "WARNING: Please consider reporting this to the maintainers of org.apache.spark.unsafe.Platform\n",
      "WARNING: Use --illegal-access=warn to enable warnings of further illegal reflective access operations\n",
      "WARNING: All illegal access operations will be denied in a future release\n"
     ]
    },
    {
     "name": "stdout",
     "output_type": "stream",
     "text": [
      ":: loading settings :: url = jar:file:/home/george/spark/spark-3.2.1-bin-hadoop3.2/jars/ivy-2.5.0.jar!/org/apache/ivy/core/settings/ivysettings.xml\n"
     ]
    },
    {
     "name": "stderr",
     "output_type": "stream",
     "text": [
      "Ivy Default Cache set to: /home/george/.ivy2/cache\n",
      "The jars for the packages stored in: /home/george/.ivy2/jars\n",
      "mysql#mysql-connector-java added as a dependency\n",
      ":: resolving dependencies :: org.apache.spark#spark-submit-parent-fa430396-4227-4737-a313-22189386c0c1;1.0\n",
      "\tconfs: [default]\n",
      "\tfound mysql#mysql-connector-java;8.0.22 in central\n",
      "\tfound com.google.protobuf#protobuf-java;3.11.4 in central\n",
      "downloading https://repo1.maven.org/maven2/mysql/mysql-connector-java/8.0.22/mysql-connector-java-8.0.22.jar ...\n",
      "\t[SUCCESSFUL ] mysql#mysql-connector-java;8.0.22!mysql-connector-java.jar (3363ms)\n",
      "downloading https://repo1.maven.org/maven2/com/google/protobuf/protobuf-java/3.11.4/protobuf-java-3.11.4.jar ...\n",
      "\t[SUCCESSFUL ] com.google.protobuf#protobuf-java;3.11.4!protobuf-java.jar(bundle) (1363ms)\n",
      ":: resolution report :: resolve 8005ms :: artifacts dl 4748ms\n",
      "\t:: modules in use:\n",
      "\tcom.google.protobuf#protobuf-java;3.11.4 from central in [default]\n",
      "\tmysql#mysql-connector-java;8.0.22 from central in [default]\n",
      "\t---------------------------------------------------------------------\n",
      "\t|                  |            modules            ||   artifacts   |\n",
      "\t|       conf       | number| search|dwnlded|evicted|| number|dwnlded|\n",
      "\t---------------------------------------------------------------------\n",
      "\t|      default     |   2   |   2   |   2   |   0   ||   2   |   2   |\n",
      "\t---------------------------------------------------------------------\n",
      ":: retrieving :: org.apache.spark#spark-submit-parent-fa430396-4227-4737-a313-22189386c0c1\n",
      "\tconfs: [default]\n",
      "\t2 artifacts copied, 0 already retrieved (3955kB/41ms)\n",
      "22/06/18 16:47:27 WARN NativeCodeLoader: Unable to load native-hadoop library for your platform... using builtin-java classes where applicable\n",
      "Using Spark's default log4j profile: org/apache/spark/log4j-defaults.properties\n",
      "Setting default log level to \"WARN\".\n",
      "To adjust logging level use sc.setLogLevel(newLevel). For SparkR, use setLogLevel(newLevel).\n"
     ]
    }
   ],
   "source": [
    "spark = SparkSession \\\n",
    "    .builder \\\n",
    "    .appName(\"Spark_movie_data_clean\") \\\n",
    "    .config(\"spark.master\", \"spark://ZHUYANZHAO-HWPC.localdomain:7077\") \\\n",
    "    .config(\"spark.jars.packages\", \"mysql:mysql-connector-java:8.0.22\") \\\n",
    "    .config(\"spark.executor.cores\", \"2\") \\\n",
    "    .config(\"spark.executor.num\", \"1\") \\\n",
    "    .getOrCreate()"
   ]
  },
  {
   "cell_type": "code",
   "execution_count": 4,
   "id": "716243f0-890d-4241-ac1b-3a2e503aec91",
   "metadata": {},
   "outputs": [
    {
     "name": "stderr",
     "output_type": "stream",
     "text": [
      "                                                                                \r"
     ]
    },
    {
     "name": "stdout",
     "output_type": "stream",
     "text": [
      "root\n",
      " |-- adult: string (nullable = true)\n",
      " |-- belongs_to_collection: string (nullable = true)\n",
      " |-- budget: string (nullable = true)\n",
      " |-- genres: string (nullable = true)\n",
      " |-- homepage: string (nullable = true)\n",
      " |-- id: string (nullable = true)\n",
      " |-- imdb_id: string (nullable = true)\n",
      " |-- original_language: string (nullable = true)\n",
      " |-- original_title: string (nullable = true)\n",
      " |-- overview: string (nullable = true)\n",
      " |-- popularity: string (nullable = true)\n",
      " |-- poster_path: string (nullable = true)\n",
      " |-- production_companies: string (nullable = true)\n",
      " |-- production_countries: string (nullable = true)\n",
      " |-- release_date: string (nullable = true)\n",
      " |-- revenue: string (nullable = true)\n",
      " |-- runtime: string (nullable = true)\n",
      " |-- spoken_languages: string (nullable = true)\n",
      " |-- status: string (nullable = true)\n",
      " |-- tagline: string (nullable = true)\n",
      " |-- title: string (nullable = true)\n",
      " |-- video: string (nullable = true)\n",
      " |-- vote_average: string (nullable = true)\n",
      " |-- vote_count: string (nullable = true)\n",
      "\n",
      "+-----+---------------------+--------+--------------------+--------------------+-----+---------+-----------------+--------------------+--------------------+----------+--------------------+--------------------+--------------------+--------------------+--------------------+--------------------+--------------------+--------+--------------------+--------------------+--------+--------------------+-----------------+\n",
      "|adult|belongs_to_collection|  budget|              genres|            homepage|   id|  imdb_id|original_language|      original_title|            overview|popularity|         poster_path|production_companies|production_countries|        release_date|             revenue|             runtime|    spoken_languages|  status|             tagline|               title|   video|        vote_average|       vote_count|\n",
      "+-----+---------------------+--------+--------------------+--------------------+-----+---------+-----------------+--------------------+--------------------+----------+--------------------+--------------------+--------------------+--------------------+--------------------+--------------------+--------------------+--------+--------------------+--------------------+--------+--------------------+-----------------+\n",
      "|False| {'id': 10194, 'na...|30000000|[{'id': 16, 'name...|http://toystory.d...|  862|tt0114709|               en|           Toy Story|Led by Woody, And...| 21.946943|/rhIRbceoE9lR4veE...|[{'name': 'Pixar ...|[{'iso_3166_1': '...|          1995-10-30|           373554033|                81.0|[{'iso_639_1': 'e...|Released|                null|           Toy Story|   False|                 7.7|             5415|\n",
      "|False|                 null|65000000|[{'id': 12, 'name...|                null| 8844|tt0113497|               en|             Jumanji|When siblings Jud...| 17.015539|/vzmL6fP7aPKNKPRT...|[{'name': 'TriSta...|[{'iso_3166_1': '...|          1995-12-15|           262797249|               104.0|[{'iso_639_1': 'e...|Released|Roll the dice and...|             Jumanji|   False|                 6.9|             2413|\n",
      "|False| {'id': 119050, 'n...|       0|[{'id': 10749, 'n...|                null|15602|tt0113228|               en|    Grumpier Old Men|A family wedding ...|   11.7129|/6ksm1sjKMFLbO7UY...|[{'name': 'Warner...|[{'iso_3166_1': '...|          1995-12-22|                   0|               101.0|[{'iso_639_1': 'e...|Released|Still Yelling. St...|    Grumpier Old Men|   False|                 6.5|               92|\n",
      "|False|                 null|16000000|[{'id': 35, 'name...|                null|31357|tt0114885|               en|   Waiting to Exhale|\"Cheated on, mist...|    Bernie| Glo and Robin ta...| determined to fi...|            3.859495|/16XOMpEaLWkrcPqS...|[{'name': 'Twenti...|[{'iso_3166_1': '...|          1995-12-22|81452156|               127.0|[{'iso_639_1': 'e...|Released|Friends are the p...|Waiting to Exhale|\n",
      "|False| {'id': 96871, 'na...|       0|[{'id': 35, 'name...|                null|11862|tt0113041|               en|Father of the Bri...|Just when George ...|  8.387519|/e64sOI48hQXyru7n...|[{'name': 'Sandol...|[{'iso_3166_1': '...|          1995-02-10|            76578911|               106.0|[{'iso_639_1': 'e...|Released|Just When His Wor...|Father of the Bri...|   False|                 5.7|              173|\n",
      "+-----+---------------------+--------+--------------------+--------------------+-----+---------+-----------------+--------------------+--------------------+----------+--------------------+--------------------+--------------------+--------------------+--------------------+--------------------+--------------------+--------+--------------------+--------------------+--------+--------------------+-----------------+\n",
      "only showing top 5 rows\n",
      "\n"
     ]
    }
   ],
   "source": [
    "df_movie = spark.read.option(\"header\",\"true\").csv(\"./movies_metadata.csv\")\n",
    "df_movie.printSchema()\n",
    "df_movie.show(5)"
   ]
  },
  {
   "cell_type": "code",
   "execution_count": 5,
   "id": "0b3f95e8-2fbd-4581-beb3-1378736267d7",
   "metadata": {},
   "outputs": [
    {
     "name": "stdout",
     "output_type": "stream",
     "text": [
      "root\n",
      " |-- adult: string (nullable = true)\n",
      " |-- budget: string (nullable = true)\n",
      " |-- genres: string (nullable = true)\n",
      " |-- homepage: string (nullable = true)\n",
      " |-- tmdb_id: string (nullable = true)\n",
      " |-- imdb_id: string (nullable = true)\n",
      " |-- original_language: string (nullable = true)\n",
      " |-- original_title: string (nullable = true)\n",
      " |-- overview: string (nullable = true)\n",
      " |-- popularity: string (nullable = true)\n",
      " |-- poster_path: string (nullable = true)\n",
      " |-- production_companies: string (nullable = true)\n",
      " |-- production_countries: string (nullable = true)\n",
      " |-- release_date: string (nullable = true)\n",
      " |-- revenue: string (nullable = true)\n",
      " |-- runtime: string (nullable = true)\n",
      " |-- spoken_languages: string (nullable = true)\n",
      " |-- status: string (nullable = true)\n",
      " |-- tagline: string (nullable = true)\n",
      " |-- title: string (nullable = true)\n",
      " |-- video: string (nullable = true)\n",
      " |-- vote_average: string (nullable = true)\n",
      " |-- vote_count: string (nullable = true)\n",
      " |-- id: long (nullable = false)\n",
      "\n",
      "+-----+--------+--------------------+--------------------+-------+---------+-----------------+--------------------+--------------------+----------+--------------------+--------------------+--------------------+--------------------+--------------------+--------------------+--------------------+--------+--------------------+--------------------+--------+--------------------+-----------------+---+\n",
      "|adult|  budget|              genres|            homepage|tmdb_id|  imdb_id|original_language|      original_title|            overview|popularity|         poster_path|production_companies|production_countries|        release_date|             revenue|             runtime|    spoken_languages|  status|             tagline|               title|   video|        vote_average|       vote_count| id|\n",
      "+-----+--------+--------------------+--------------------+-------+---------+-----------------+--------------------+--------------------+----------+--------------------+--------------------+--------------------+--------------------+--------------------+--------------------+--------------------+--------+--------------------+--------------------+--------+--------------------+-----------------+---+\n",
      "|False|30000000|[{'id': 16, 'name...|http://toystory.d...|    862|tt0114709|               en|           Toy Story|Led by Woody, And...| 21.946943|/rhIRbceoE9lR4veE...|[{'name': 'Pixar ...|[{'iso_3166_1': '...|          1995-10-30|           373554033|                81.0|[{'iso_639_1': 'e...|Released|                null|           Toy Story|   False|                 7.7|             5415|  1|\n",
      "|False|65000000|[{'id': 12, 'name...|                null|   8844|tt0113497|               en|             Jumanji|When siblings Jud...| 17.015539|/vzmL6fP7aPKNKPRT...|[{'name': 'TriSta...|[{'iso_3166_1': '...|          1995-12-15|           262797249|               104.0|[{'iso_639_1': 'e...|Released|Roll the dice and...|             Jumanji|   False|                 6.9|             2413|  2|\n",
      "|False|       0|[{'id': 10749, 'n...|                null|  15602|tt0113228|               en|    Grumpier Old Men|A family wedding ...|   11.7129|/6ksm1sjKMFLbO7UY...|[{'name': 'Warner...|[{'iso_3166_1': '...|          1995-12-22|                   0|               101.0|[{'iso_639_1': 'e...|Released|Still Yelling. St...|    Grumpier Old Men|   False|                 6.5|               92|  3|\n",
      "|False|16000000|[{'id': 35, 'name...|                null|  31357|tt0114885|               en|   Waiting to Exhale|\"Cheated on, mist...|    Bernie| Glo and Robin ta...| determined to fi...|            3.859495|/16XOMpEaLWkrcPqS...|[{'name': 'Twenti...|[{'iso_3166_1': '...|          1995-12-22|81452156|               127.0|[{'iso_639_1': 'e...|Released|Friends are the p...|Waiting to Exhale|  4|\n",
      "|False|       0|[{'id': 35, 'name...|                null|  11862|tt0113041|               en|Father of the Bri...|Just when George ...|  8.387519|/e64sOI48hQXyru7n...|[{'name': 'Sandol...|[{'iso_3166_1': '...|          1995-02-10|            76578911|               106.0|[{'iso_639_1': 'e...|Released|Just When His Wor...|Father of the Bri...|   False|                 5.7|              173|  5|\n",
      "+-----+--------+--------------------+--------------------+-------+---------+-----------------+--------------------+--------------------+----------+--------------------+--------------------+--------------------+--------------------+--------------------+--------------------+--------------------+--------+--------------------+--------------------+--------+--------------------+-----------------+---+\n",
      "only showing top 5 rows\n",
      "\n"
     ]
    }
   ],
   "source": [
    "import pyspark.sql.functions as f\n",
    "df_movie = df_movie.drop(\"belongs_to_collection\").withColumnRenamed(\"id\", \"tmdb_id\")\n",
    "df_movie = df_movie.select(\"*\").withColumn(\"id\", f.monotonically_increasing_id() + 1)\n",
    "df_movie.printSchema()\n",
    "df_movie.show(5)"
   ]
  },
  {
   "cell_type": "code",
   "execution_count": 6,
   "id": "9451f9c4-976d-47e7-aeec-fe080667676b",
   "metadata": {},
   "outputs": [
    {
     "name": "stdout",
     "output_type": "stream",
     "text": [
      "+-----+--------+--------------------+--------------------+-------+-------+-----------------+--------------------+--------------------+----------+--------------------+--------------------+--------------------+--------------------+--------------------+--------------------+--------------------+--------+--------------------+--------------------+--------+--------------------+-----------------+---+\n",
      "|adult|  budget|              genres|            homepage|tmdb_id|imdb_id|original_language|      original_title|            overview|popularity|         poster_path|production_companies|production_countries|        release_date|             revenue|             runtime|    spoken_languages|  status|             tagline|               title|   video|        vote_average|       vote_count| id|\n",
      "+-----+--------+--------------------+--------------------+-------+-------+-----------------+--------------------+--------------------+----------+--------------------+--------------------+--------------------+--------------------+--------------------+--------------------+--------------------+--------+--------------------+--------------------+--------+--------------------+-----------------+---+\n",
      "|False|30000000|[{'id': 16, 'name...|http://toystory.d...|    862| 114709|               en|           Toy Story|Led by Woody, And...| 21.946943|/rhIRbceoE9lR4veE...|[{'name': 'Pixar ...|[{'iso_3166_1': '...|          1995-10-30|           373554033|                81.0|[{'iso_639_1': 'e...|Released|                null|           Toy Story|   False|                 7.7|             5415|  1|\n",
      "|False|65000000|[{'id': 12, 'name...|                null|   8844| 113497|               en|             Jumanji|When siblings Jud...| 17.015539|/vzmL6fP7aPKNKPRT...|[{'name': 'TriSta...|[{'iso_3166_1': '...|          1995-12-15|           262797249|               104.0|[{'iso_639_1': 'e...|Released|Roll the dice and...|             Jumanji|   False|                 6.9|             2413|  2|\n",
      "|False|       0|[{'id': 10749, 'n...|                null|  15602| 113228|               en|    Grumpier Old Men|A family wedding ...|   11.7129|/6ksm1sjKMFLbO7UY...|[{'name': 'Warner...|[{'iso_3166_1': '...|          1995-12-22|                   0|               101.0|[{'iso_639_1': 'e...|Released|Still Yelling. St...|    Grumpier Old Men|   False|                 6.5|               92|  3|\n",
      "|False|16000000|[{'id': 35, 'name...|                null|  31357| 114885|               en|   Waiting to Exhale|\"Cheated on, mist...|    Bernie| Glo and Robin ta...| determined to fi...|            3.859495|/16XOMpEaLWkrcPqS...|[{'name': 'Twenti...|[{'iso_3166_1': '...|          1995-12-22|81452156|               127.0|[{'iso_639_1': 'e...|Released|Friends are the p...|Waiting to Exhale|  4|\n",
      "|False|       0|[{'id': 35, 'name...|                null|  11862| 113041|               en|Father of the Bri...|Just when George ...|  8.387519|/e64sOI48hQXyru7n...|[{'name': 'Sandol...|[{'iso_3166_1': '...|          1995-02-10|            76578911|               106.0|[{'iso_639_1': 'e...|Released|Just When His Wor...|Father of the Bri...|   False|                 5.7|              173|  5|\n",
      "+-----+--------+--------------------+--------------------+-------+-------+-----------------+--------------------+--------------------+----------+--------------------+--------------------+--------------------+--------------------+--------------------+--------------------+--------------------+--------+--------------------+--------------------+--------+--------------------+-----------------+---+\n",
      "only showing top 5 rows\n",
      "\n"
     ]
    }
   ],
   "source": [
    "df_movie = df_movie.withColumn('imdb_id', f.col('imdb_id').substr(f.lit(4), f.length('imdb_id')))\n",
    "df_movie.show(5)"
   ]
  },
  {
   "cell_type": "code",
   "execution_count": 7,
   "id": "6a6f406a-314d-46c4-ba99-f94ca3d9aa31",
   "metadata": {},
   "outputs": [
    {
     "data": {
      "text/plain": [
       "DataFrame[adult: string, budget: string, genres: string, homepage: string, tmdb_id: string, imdb_id: string, original_language: string, original_title: string, overview: string, popularity: string, poster_path: string, production_companies: string, production_countries: string, release_date: string, revenue: string, runtime: string, spoken_languages: string, status: string, tagline: string, title: string, video: string, vote_average: string, vote_count: string, id: bigint]"
      ]
     },
     "execution_count": 7,
     "metadata": {},
     "output_type": "execute_result"
    }
   ],
   "source": [
    "df_movie.cache()"
   ]
  },
  {
   "cell_type": "code",
   "execution_count": 17,
   "id": "28c0e127-1839-48cb-b090-c38e3a5d4a2b",
   "metadata": {},
   "outputs": [
    {
     "name": "stdout",
     "output_type": "stream",
     "text": [
      "root\n",
      " |-- movie_id: long (nullable = false)\n",
      " |-- genres: string (nullable = true)\n",
      "\n",
      "+--------+-------------------------------------------------------------------------------------------------+\n",
      "|movie_id|genres                                                                                           |\n",
      "+--------+-------------------------------------------------------------------------------------------------+\n",
      "|1       |[{'id': 16, 'name': 'Animation'}, {'id': 35, 'name': 'Comedy'}, {'id': 10751, 'name': 'Family'}] |\n",
      "|2       |[{'id': 12, 'name': 'Adventure'}, {'id': 14, 'name': 'Fantasy'}, {'id': 10751, 'name': 'Family'}]|\n",
      "|3       |[{'id': 10749, 'name': 'Romance'}, {'id': 35, 'name': 'Comedy'}]                                 |\n",
      "|4       |[{'id': 35, 'name': 'Comedy'}, {'id': 18, 'name': 'Drama'}, {'id': 10749, 'name': 'Romance'}]    |\n",
      "|5       |[{'id': 35, 'name': 'Comedy'}]                                                                   |\n",
      "+--------+-------------------------------------------------------------------------------------------------+\n",
      "only showing top 5 rows\n",
      "\n"
     ]
    }
   ],
   "source": [
    "df_movie_genres = df_movie.select(f.col(\"id\").alias(\"movie_id\"), f.col(\"genres\"))\n",
    "df_movie_genres.printSchema()\n",
    "df_movie_genres.show(5, truncate=False)"
   ]
  },
  {
   "cell_type": "code",
   "execution_count": 9,
   "id": "2e01b59c-8d1a-4f70-a483-67e35701e588",
   "metadata": {},
   "outputs": [
    {
     "data": {
      "text/plain": [
       "DataFrame[movie_id: bigint, genres: string]"
      ]
     },
     "execution_count": 9,
     "metadata": {},
     "output_type": "execute_result"
    }
   ],
   "source": [
    "df_movie_genres.cache()"
   ]
  },
  {
   "cell_type": "code",
   "execution_count": 18,
   "id": "71d71bdf-96b8-4c92-992c-ab25d43bd7d0",
   "metadata": {},
   "outputs": [
    {
     "name": "stdout",
     "output_type": "stream",
     "text": [
      "root\n",
      " |-- movie_id: long (nullable = false)\n",
      " |-- genres: array (nullable = true)\n",
      " |    |-- element: string (containsNull = true)\n",
      "\n",
      "+--------+----------------------------------------------------------------------------------------+\n",
      "|movie_id|genres                                                                                  |\n",
      "+--------+----------------------------------------------------------------------------------------+\n",
      "|1       |[{\"id\":16,\"name\":\"Animation\"}, {\"id\":35,\"name\":\"Comedy\"}, {\"id\":10751,\"name\":\"Family\"}] |\n",
      "|2       |[{\"id\":12,\"name\":\"Adventure\"}, {\"id\":14,\"name\":\"Fantasy\"}, {\"id\":10751,\"name\":\"Family\"}]|\n",
      "|3       |[{\"id\":10749,\"name\":\"Romance\"}, {\"id\":35,\"name\":\"Comedy\"}]                              |\n",
      "|4       |[{\"id\":35,\"name\":\"Comedy\"}, {\"id\":18,\"name\":\"Drama\"}, {\"id\":10749,\"name\":\"Romance\"}]    |\n",
      "|5       |[{\"id\":35,\"name\":\"Comedy\"}]                                                             |\n",
      "+--------+----------------------------------------------------------------------------------------+\n",
      "only showing top 5 rows\n",
      "\n"
     ]
    }
   ],
   "source": [
    "df_movie_genres2 = df_movie_genres.withColumn(\"genres\", f.from_json(f.col(\"genres\"), \"array<string>\"))\n",
    "df_movie_genres2.printSchema()\n",
    "df_movie_genres2.show(5, truncate=False)"
   ]
  },
  {
   "cell_type": "code",
   "execution_count": 19,
   "id": "a38cdac0-9a20-46a1-92e7-f27a2bdbe5ad",
   "metadata": {},
   "outputs": [
    {
     "name": "stdout",
     "output_type": "stream",
     "text": [
      "+--------+-----------------------------+\n",
      "|movie_id|genres                       |\n",
      "+--------+-----------------------------+\n",
      "|1       |{\"id\":16,\"name\":\"Animation\"} |\n",
      "|1       |{\"id\":35,\"name\":\"Comedy\"}    |\n",
      "|1       |{\"id\":10751,\"name\":\"Family\"} |\n",
      "|2       |{\"id\":12,\"name\":\"Adventure\"} |\n",
      "|2       |{\"id\":14,\"name\":\"Fantasy\"}   |\n",
      "|2       |{\"id\":10751,\"name\":\"Family\"} |\n",
      "|3       |{\"id\":10749,\"name\":\"Romance\"}|\n",
      "|3       |{\"id\":35,\"name\":\"Comedy\"}    |\n",
      "|4       |{\"id\":35,\"name\":\"Comedy\"}    |\n",
      "|4       |{\"id\":18,\"name\":\"Drama\"}     |\n",
      "+--------+-----------------------------+\n",
      "only showing top 10 rows\n",
      "\n"
     ]
    }
   ],
   "source": [
    "df_movie_genres2 = df_movie_genres2.withColumn(\"genres\", f.explode(\"genres\"))\n",
    "df_movie_genres2.show(10, truncate=False)"
   ]
  },
  {
   "cell_type": "code",
   "execution_count": 22,
   "id": "e938185b-c6e0-479d-964b-5ce7011c7c93",
   "metadata": {},
   "outputs": [
    {
     "name": "stdout",
     "output_type": "stream",
     "text": [
      "root\n",
      " |-- movie_id: integer (nullable = false)\n",
      " |-- genre_id: integer (nullable = true)\n",
      " |-- name: string (nullable = true)\n",
      "\n",
      "+--------+--------+---------+\n",
      "|movie_id|genre_id|name     |\n",
      "+--------+--------+---------+\n",
      "|1       |16      |Animation|\n",
      "|1       |35      |Comedy   |\n",
      "|1       |10751   |Family   |\n",
      "|2       |12      |Adventure|\n",
      "|2       |14      |Fantasy  |\n",
      "|2       |10751   |Family   |\n",
      "|3       |10749   |Romance  |\n",
      "|3       |35      |Comedy   |\n",
      "|4       |35      |Comedy   |\n",
      "|4       |18      |Drama    |\n",
      "+--------+--------+---------+\n",
      "only showing top 10 rows\n",
      "\n"
     ]
    }
   ],
   "source": [
    "import pyspark.sql.types as t\n",
    "schema = t.StructType(\n",
    "    [\n",
    "        t.StructField('id', t.StringType(), True),\n",
    "        t.StructField('name', t.StringType(), True)\n",
    "    ]\n",
    ")\n",
    "df_movie_genres3 = df_movie_genres2.withColumn('genres', f.from_json('genres', schema))\\\n",
    ".select(f.col('movie_id').cast('int'), f.col('genres.id').cast('int').alias('genre_id'), f.col('genres.name'))\n",
    "df_movie_genres3.printSchema()\n",
    "df_movie_genres3.show(10, truncate=False) # Here is the Movie-genre table data"
   ]
  },
  {
   "cell_type": "code",
   "execution_count": 25,
   "id": "08e56907-48bc-4adb-a706-3efca6a4a82d",
   "metadata": {},
   "outputs": [
    {
     "name": "stderr",
     "output_type": "stream",
     "text": [
      "                                                                                \r"
     ]
    }
   ],
   "source": [
    "#################### Save movie-genre data to MySQL table ####################\n",
    "df_movie_genres3.select('movie_id', 'genre_id', 'name').write.format(\"jdbc\") \\\n",
    "    .option(\"url\", \"jdbc:mysql://localhost:3306/spark_movies\") \\\n",
    "    .option(\"driver\", \"com.mysql.jdbc.Driver\").option(\"dbtable\", \"movie_genre\") \\\n",
    "    .option(\"user\", \"root\").option(\"password\", \"zhuyz928\").save()"
   ]
  },
  {
   "cell_type": "code",
   "execution_count": 27,
   "id": "7418fef4-6007-45bf-a8da-11838c10ff12",
   "metadata": {},
   "outputs": [
    {
     "name": "stderr",
     "output_type": "stream",
     "text": [
      "                                                                                \r"
     ]
    },
    {
     "name": "stdout",
     "output_type": "stream",
     "text": [
      "+--------+--------------------+\n",
      "|genre_id|                name|\n",
      "+--------+--------------------+\n",
      "|      12|           Adventure|\n",
      "|      14|             Fantasy|\n",
      "|      14|       Miramax Films|\n",
      "|      16|           Animation|\n",
      "|      18|               Drama|\n",
      "|      27|              Horror|\n",
      "|      28|              Action|\n",
      "|      35|              Comedy|\n",
      "|      36|             History|\n",
      "|      37|             Western|\n",
      "|      53|            Thriller|\n",
      "|      80|               Crime|\n",
      "|      99|         Documentary|\n",
      "|     219|The Mirisch Corpo...|\n",
      "|     878|     Science Fiction|\n",
      "|    2883|             Aniplex|\n",
      "|    2957|         Double Play|\n",
      "|    3279|          Vox3 Films|\n",
      "|    3287|         Screen Gems|\n",
      "|    3459|      Serenade Films|\n",
      "|    6003|     Box Productions|\n",
      "|    6308|U.S. Office of Wa...|\n",
      "|    7105|   Mwana Productions|\n",
      "|    7106|            Sylicone|\n",
      "|    7759|             GoHands|\n",
      "|    7760|           BROSTA TV|\n",
      "|    7761|Mardock Scramble ...|\n",
      "|    7850|            Sciapode|\n",
      "|    8424|         Fides Films|\n",
      "|    8453|Télévision Suisse...|\n",
      "|    9386|First Motion Pict...|\n",
      "|    9648|             Mystery|\n",
      "|   10402|               Music|\n",
      "|   10749|             Romance|\n",
      "|   10751|              Family|\n",
      "|   10752|                 War|\n",
      "|   10769|             Foreign|\n",
      "|   10770|            TV Movie|\n",
      "|   11176|Carousel Productions|\n",
      "|   11602|Vision View Enter...|\n",
      "|   11687|Le Fresnoy Studio...|\n",
      "|   11778|        F Comme Film|\n",
      "|   13993|Meadway-Claude Pr...|\n",
      "|   17161|       Odyssey Media|\n",
      "|   18012|  Pulser Productions|\n",
      "|   18013|         Rogue State|\n",
      "|   23822|          The Cartel|\n",
      "|   29812|Telescene Film Gr...|\n",
      "|   33751|    Sentai Filmworks|\n",
      "|   34034|       LStar Capital|\n",
      "|   60250|WhiteFlame Produc...|\n",
      "|   89695|Trois Brigands Pr...|\n",
      "+--------+--------------------+\n",
      "\n"
     ]
    }
   ],
   "source": [
    "df_genres = df_movie_genres3.select(['genre_id', 'name']).distinct()\n",
    "df_genres.sort(f.col('genre_id')).show(df_genres.count()) # Here is the Genres table data"
   ]
  },
  {
   "cell_type": "code",
   "execution_count": 28,
   "id": "712ec6e8-81ae-4661-87aa-257034eebf37",
   "metadata": {},
   "outputs": [
    {
     "name": "stderr",
     "output_type": "stream",
     "text": [
      "                                                                                \r"
     ]
    }
   ],
   "source": [
    "#################### Save genres data to MySQL table ####################\n",
    "df_genres.select('genre_id', 'name').write.format(\"jdbc\") \\\n",
    "    .option(\"url\", \"jdbc:mysql://localhost:3306/spark_movies\") \\\n",
    "    .option(\"driver\", \"com.mysql.jdbc.Driver\").option(\"dbtable\", \"genres\") \\\n",
    "    .option(\"user\", \"root\").option(\"password\", \"zhuyz928\").save()"
   ]
  },
  {
   "cell_type": "code",
   "execution_count": 36,
   "id": "4b667778-4bff-4898-b8fe-f0b099c43858",
   "metadata": {},
   "outputs": [
    {
     "name": "stdout",
     "output_type": "stream",
     "text": [
      "root\n",
      " |-- movie_id: long (nullable = false)\n",
      " |-- production_companies: string (nullable = true)\n",
      "\n",
      "+--------+-----------------------------------------------------------------------------------------------------------------------------------+\n",
      "|movie_id|production_companies                                                                                                               |\n",
      "+--------+-----------------------------------------------------------------------------------------------------------------------------------+\n",
      "|1       |[{'name': 'Pixar Animation Studios', 'id': 3}]                                                                                     |\n",
      "|2       |[{'name': 'TriStar Pictures', 'id': 559}, {'name': 'Teitler Film', 'id': 2550}, {'name': 'Interscope Communications', 'id': 10201}]|\n",
      "|3       |[{'name': 'Warner Bros.', 'id': 6194}, {'name': 'Lancaster Gate', 'id': 19464}]                                                    |\n",
      "|4       | determined to find a better way to breathe.\"                                                                                      |\n",
      "|5       |[{'name': 'Sandollar Productions', 'id': 5842}, {'name': 'Touchstone Pictures', 'id': 9195}]                                       |\n",
      "+--------+-----------------------------------------------------------------------------------------------------------------------------------+\n",
      "only showing top 5 rows\n",
      "\n"
     ]
    }
   ],
   "source": [
    "df_movie_prod_companies = df_movie.select(f.col(\"id\").alias(\"movie_id\"), f.col(\"production_companies\"))\n",
    "df_movie_prod_companies.printSchema()\n",
    "df_movie_prod_companies.show(5, truncate=False)"
   ]
  },
  {
   "cell_type": "code",
   "execution_count": 38,
   "id": "a3d64597-899b-450b-9dcc-16b99a60e9aa",
   "metadata": {},
   "outputs": [
    {
     "name": "stdout",
     "output_type": "stream",
     "text": [
      "root\n",
      " |-- movie_id: long (nullable = false)\n",
      " |-- production_companies: array (nullable = true)\n",
      " |    |-- element: string (containsNull = true)\n",
      "\n",
      "+--------+--------------------------------------------------------------------------------------------------------------------------+\n",
      "|movie_id|production_companies                                                                                                      |\n",
      "+--------+--------------------------------------------------------------------------------------------------------------------------+\n",
      "|1       |[{\"name\":\"Pixar Animation Studios\",\"id\":3}]                                                                               |\n",
      "|2       |[{\"name\":\"TriStar Pictures\",\"id\":559}, {\"name\":\"Teitler Film\",\"id\":2550}, {\"name\":\"Interscope Communications\",\"id\":10201}]|\n",
      "|3       |[{\"name\":\"Warner Bros.\",\"id\":6194}, {\"name\":\"Lancaster Gate\",\"id\":19464}]                                                 |\n",
      "|4       |null                                                                                                                      |\n",
      "|5       |[{\"name\":\"Sandollar Productions\",\"id\":5842}, {\"name\":\"Touchstone Pictures\",\"id\":9195}]                                    |\n",
      "+--------+--------------------------------------------------------------------------------------------------------------------------+\n",
      "only showing top 5 rows\n",
      "\n"
     ]
    }
   ],
   "source": [
    "df_movie_prod_companies2 = df_movie_prod_companies.withColumn(\"production_companies\", f.from_json(f.col(\"production_companies\"), \"array<string>\"))\n",
    "df_movie_prod_companies2.printSchema()\n",
    "df_movie_prod_companies2.show(5, truncate=False)"
   ]
  },
  {
   "cell_type": "code",
   "execution_count": 39,
   "id": "5ba9680a-db75-4d55-9938-ad18a183aa4e",
   "metadata": {},
   "outputs": [
    {
     "data": {
      "text/plain": [
       "41599"
      ]
     },
     "execution_count": 39,
     "metadata": {},
     "output_type": "execute_result"
    }
   ],
   "source": [
    "df_movie_prod_companies2 = df_movie_prod_companies2.na.drop(subset=['production_companies'])\n",
    "df_movie_prod_companies2.count()"
   ]
  },
  {
   "cell_type": "code",
   "execution_count": 40,
   "id": "650daebd-38ef-449b-b720-a79ea6789b35",
   "metadata": {},
   "outputs": [
    {
     "name": "stdout",
     "output_type": "stream",
     "text": [
      "+--------+-----------------------------------------------+\n",
      "|movie_id|production_companies                           |\n",
      "+--------+-----------------------------------------------+\n",
      "|1       |{\"name\":\"Pixar Animation Studios\",\"id\":3}      |\n",
      "|2       |{\"name\":\"TriStar Pictures\",\"id\":559}           |\n",
      "|2       |{\"name\":\"Teitler Film\",\"id\":2550}              |\n",
      "|2       |{\"name\":\"Interscope Communications\",\"id\":10201}|\n",
      "|3       |{\"name\":\"Warner Bros.\",\"id\":6194}              |\n",
      "|3       |{\"name\":\"Lancaster Gate\",\"id\":19464}           |\n",
      "|5       |{\"name\":\"Sandollar Productions\",\"id\":5842}     |\n",
      "|5       |{\"name\":\"Touchstone Pictures\",\"id\":9195}       |\n",
      "|6       |{\"name\":\"Regency Enterprises\",\"id\":508}        |\n",
      "|6       |{\"name\":\"Forward Pass\",\"id\":675}               |\n",
      "+--------+-----------------------------------------------+\n",
      "only showing top 10 rows\n",
      "\n"
     ]
    }
   ],
   "source": [
    "df_movie_prod_companies2 = df_movie_prod_companies2.withColumn(\"production_companies\", f.explode(\"production_companies\"))\n",
    "df_movie_prod_companies2.show(10, truncate=False)"
   ]
  },
  {
   "cell_type": "code",
   "execution_count": 41,
   "id": "63b54d35-768e-4465-b9c9-8a73eaf1fd75",
   "metadata": {},
   "outputs": [
    {
     "name": "stdout",
     "output_type": "stream",
     "text": [
      "root\n",
      " |-- movie_id: long (nullable = false)\n",
      " |-- company_id: string (nullable = true)\n",
      " |-- name: string (nullable = true)\n",
      "\n",
      "+--------+----------+-------------------------+\n",
      "|movie_id|company_id|name                     |\n",
      "+--------+----------+-------------------------+\n",
      "|1       |3         |Pixar Animation Studios  |\n",
      "|2       |559       |TriStar Pictures         |\n",
      "|2       |2550      |Teitler Film             |\n",
      "|2       |10201     |Interscope Communications|\n",
      "|3       |6194      |Warner Bros.             |\n",
      "|3       |19464     |Lancaster Gate           |\n",
      "|5       |5842      |Sandollar Productions    |\n",
      "|5       |9195      |Touchstone Pictures      |\n",
      "|6       |508       |Regency Enterprises      |\n",
      "|6       |675       |Forward Pass             |\n",
      "+--------+----------+-------------------------+\n",
      "only showing top 10 rows\n",
      "\n"
     ]
    }
   ],
   "source": [
    "schema = t.StructType(\n",
    "    [\n",
    "        t.StructField('id', t.StringType(), True),\n",
    "        t.StructField('name', t.StringType(), True)\n",
    "    ]\n",
    ")\n",
    "df_movie_prod_companies3 = df_movie_prod_companies2.withColumn('production_companies', f.from_json('production_companies', schema))\\\n",
    ".select(f.col('movie_id'), f.col('production_companies.id').alias('company_id'), f.col('production_companies.name'))\n",
    "df_movie_prod_companies3 = df_movie_prod_companies3.na.drop(subset=['company_id', 'name'])\n",
    "df_movie_prod_companies3.printSchema()\n",
    "df_movie_prod_companies3.show(10, truncate=False) # Here is the Movie-prod-company table data"
   ]
  },
  {
   "cell_type": "code",
   "execution_count": 50,
   "id": "570731d1-1c30-4ade-ab49-f1f41989cdb6",
   "metadata": {},
   "outputs": [
    {
     "name": "stderr",
     "output_type": "stream",
     "text": [
      "                                                                                \r"
     ]
    },
    {
     "name": "stdout",
     "output_type": "stream",
     "text": [
      "+----------+--------------------+\n",
      "|company_id|                name|\n",
      "+----------+--------------------+\n",
      "|         1|           Lucasfilm|\n",
      "|        10|           Highlight|\n",
      "|       100|     Avon Production|\n",
      "|     10000|Compagnia Cinemat...|\n",
      "|     10001|Andy Warhol Produ...|\n",
      "|     10002|Filmscope Enterta...|\n",
      "|     10005|Balthazar Product...|\n",
      "|      1001|        Solaris Film|\n",
      "|     10011|     Alta Producción|\n",
      "|     10012|   Nadie es Perfecto|\n",
      "+----------+--------------------+\n",
      "only showing top 10 rows\n",
      "\n"
     ]
    },
    {
     "name": "stderr",
     "output_type": "stream",
     "text": [
      "                                                                                \r"
     ]
    },
    {
     "data": {
      "text/plain": [
       "22093"
      ]
     },
     "execution_count": 50,
     "metadata": {},
     "output_type": "execute_result"
    }
   ],
   "source": [
    "df_companies = df_movie_prod_companies3.select(['company_id', 'name']).distinct()\n",
    "df_companies.sort(f.col('company_id')).show(10) # Here is the Prod-companies table data\n",
    "df_companies.count()"
   ]
  },
  {
   "cell_type": "code",
   "execution_count": 51,
   "id": "2e7d255d-0b6f-46a5-ba93-e3f76f9204ce",
   "metadata": {},
   "outputs": [
    {
     "name": "stdout",
     "output_type": "stream",
     "text": [
      "root\n",
      " |-- movie_id: long (nullable = false)\n",
      " |-- production_countries: string (nullable = true)\n",
      "\n",
      "+--------+----------------------------------------------------------+\n",
      "|movie_id|production_countries                                      |\n",
      "+--------+----------------------------------------------------------+\n",
      "|1       |[{'iso_3166_1': 'US', 'name': 'United States of America'}]|\n",
      "|2       |[{'iso_3166_1': 'US', 'name': 'United States of America'}]|\n",
      "|3       |[{'iso_3166_1': 'US', 'name': 'United States of America'}]|\n",
      "|4       |3.859495                                                  |\n",
      "|5       |[{'iso_3166_1': 'US', 'name': 'United States of America'}]|\n",
      "+--------+----------------------------------------------------------+\n",
      "only showing top 5 rows\n",
      "\n"
     ]
    }
   ],
   "source": [
    "df_movie_prod_countries = df_movie.select(f.col(\"id\").alias(\"movie_id\"), f.col(\"production_countries\"))\n",
    "df_movie_prod_countries.printSchema()\n",
    "df_movie_prod_countries.show(5, truncate=False)"
   ]
  },
  {
   "cell_type": "code",
   "execution_count": 52,
   "id": "a5c89685-36f3-4550-a0e2-f1ff6fc14379",
   "metadata": {},
   "outputs": [
    {
     "name": "stdout",
     "output_type": "stream",
     "text": [
      "root\n",
      " |-- movie_id: long (nullable = false)\n",
      " |-- production_countries: array (nullable = true)\n",
      " |    |-- element: string (containsNull = true)\n",
      "\n",
      "+--------+-------------------------------------------------------+\n",
      "|movie_id|production_countries                                   |\n",
      "+--------+-------------------------------------------------------+\n",
      "|1       |[{\"iso_3166_1\":\"US\",\"name\":\"United States of America\"}]|\n",
      "|2       |[{\"iso_3166_1\":\"US\",\"name\":\"United States of America\"}]|\n",
      "|3       |[{\"iso_3166_1\":\"US\",\"name\":\"United States of America\"}]|\n",
      "|4       |null                                                   |\n",
      "|5       |[{\"iso_3166_1\":\"US\",\"name\":\"United States of America\"}]|\n",
      "+--------+-------------------------------------------------------+\n",
      "only showing top 5 rows\n",
      "\n"
     ]
    }
   ],
   "source": [
    "df_movie_prod_countries2 = df_movie_prod_countries.withColumn(\"production_countries\", f.from_json(f.col(\"production_countries\"), \"array<string>\"))\n",
    "df_movie_prod_countries2.printSchema()\n",
    "df_movie_prod_countries2.show(5, truncate=False)"
   ]
  },
  {
   "cell_type": "code",
   "execution_count": 53,
   "id": "74f97fd8-1e32-4e43-9fe5-9f0f5f45be7d",
   "metadata": {},
   "outputs": [
    {
     "name": "stderr",
     "output_type": "stream",
     "text": [
      "                                                                                \r"
     ]
    },
    {
     "data": {
      "text/plain": [
       "42472"
      ]
     },
     "execution_count": 53,
     "metadata": {},
     "output_type": "execute_result"
    }
   ],
   "source": [
    "df_movie_prod_countries2 = df_movie_prod_countries2.na.drop(subset=['production_countries'])\n",
    "df_movie_prod_countries2.count()"
   ]
  },
  {
   "cell_type": "code",
   "execution_count": 54,
   "id": "ef64e121-b807-454b-ba62-42e7e243f5ab",
   "metadata": {},
   "outputs": [
    {
     "name": "stdout",
     "output_type": "stream",
     "text": [
      "+--------+-----------------------------------------------------+\n",
      "|movie_id|production_countries                                 |\n",
      "+--------+-----------------------------------------------------+\n",
      "|1       |{\"iso_3166_1\":\"US\",\"name\":\"United States of America\"}|\n",
      "|2       |{\"iso_3166_1\":\"US\",\"name\":\"United States of America\"}|\n",
      "|3       |{\"iso_3166_1\":\"US\",\"name\":\"United States of America\"}|\n",
      "|5       |{\"iso_3166_1\":\"US\",\"name\":\"United States of America\"}|\n",
      "|6       |{\"iso_3166_1\":\"US\",\"name\":\"United States of America\"}|\n",
      "|7       |{\"iso_3166_1\":\"DE\",\"name\":\"Germany\"}                 |\n",
      "|7       |{\"iso_3166_1\":\"US\",\"name\":\"United States of America\"}|\n",
      "|8       |{\"iso_3166_1\":\"US\",\"name\":\"United States of America\"}|\n",
      "|9       |{\"iso_3166_1\":\"US\",\"name\":\"United States of America\"}|\n",
      "|10      |{\"iso_3166_1\":\"GB\",\"name\":\"United Kingdom\"}          |\n",
      "+--------+-----------------------------------------------------+\n",
      "only showing top 10 rows\n",
      "\n"
     ]
    }
   ],
   "source": [
    "df_movie_prod_countries2 = df_movie_prod_countries2.withColumn(\"production_countries\", f.explode(\"production_countries\"))\n",
    "df_movie_prod_countries2.show(10, truncate=False)"
   ]
  },
  {
   "cell_type": "code",
   "execution_count": 62,
   "id": "7ba97214-e4c2-4e6b-b8cd-afcd367480f3",
   "metadata": {},
   "outputs": [
    {
     "name": "stdout",
     "output_type": "stream",
     "text": [
      "root\n",
      " |-- movie_id: long (nullable = false)\n",
      " |-- country_code: string (nullable = true)\n",
      " |-- name: string (nullable = true)\n",
      "\n",
      "+--------+------------+------------------------+\n",
      "|movie_id|country_code|name                    |\n",
      "+--------+------------+------------------------+\n",
      "|1       |US          |United States of America|\n",
      "|2       |US          |United States of America|\n",
      "|3       |US          |United States of America|\n",
      "|5       |US          |United States of America|\n",
      "|6       |US          |United States of America|\n",
      "|7       |DE          |Germany                 |\n",
      "|7       |US          |United States of America|\n",
      "|8       |US          |United States of America|\n",
      "|9       |US          |United States of America|\n",
      "|10      |GB          |United Kingdom          |\n",
      "+--------+------------+------------------------+\n",
      "only showing top 10 rows\n",
      "\n"
     ]
    }
   ],
   "source": [
    "schema = t.StructType(\n",
    "    [\n",
    "        t.StructField('iso_3166_1', t.StringType(), True),\n",
    "        t.StructField('name', t.StringType(), True)\n",
    "    ]\n",
    ")\n",
    "df_movie_prod_countries3 = df_movie_prod_countries2.withColumn('production_countries', f.from_json('production_countries', schema))\\\n",
    ".select(f.col('movie_id'), f.col('production_countries.iso_3166_1').alias('country_code'), f.col('production_countries.name'))\n",
    "df_movie_prod_countries3 = df_movie_prod_countries3.na.drop(subset=['country_code', 'name'])\n",
    "df_movie_prod_countries3.printSchema()\n",
    "df_movie_prod_countries3.show(10, truncate=False) # Here is the Movie-prod-country table data"
   ]
  },
  {
   "cell_type": "code",
   "execution_count": 63,
   "id": "b3129f07-7719-401e-9796-f306706ff249",
   "metadata": {},
   "outputs": [
    {
     "name": "stdout",
     "output_type": "stream",
     "text": [
      "+------------+--------------------+\n",
      "|country_code|                name|\n",
      "+------------+--------------------+\n",
      "|          AE|United Arab Emirates|\n",
      "|          AF|         Afghanistan|\n",
      "|          AL|             Albania|\n",
      "|          AM|             Armenia|\n",
      "|          AN|Netherlands Antilles|\n",
      "|          AO|              Angola|\n",
      "|          AQ|          Antarctica|\n",
      "|          AR|           Argentina|\n",
      "|          AT|             Austria|\n",
      "|          AU|           Australia|\n",
      "+------------+--------------------+\n",
      "only showing top 10 rows\n",
      "\n"
     ]
    },
    {
     "name": "stderr",
     "output_type": "stream",
     "text": [
      "                                                                                \r"
     ]
    },
    {
     "data": {
      "text/plain": [
       "158"
      ]
     },
     "execution_count": 63,
     "metadata": {},
     "output_type": "execute_result"
    }
   ],
   "source": [
    "df_countries = df_movie_prod_countries3.select(['country_code', 'name']).distinct()\n",
    "df_countries.sort(f.col('country_code')).show(10) # Here is the Prod-countries table data\n",
    "df_countries.count()"
   ]
  },
  {
   "cell_type": "code",
   "execution_count": 66,
   "id": "8f0dd36b-d38d-4b01-901d-dda7a33eddb9",
   "metadata": {},
   "outputs": [
    {
     "name": "stdout",
     "output_type": "stream",
     "text": [
      "root\n",
      " |-- movie_id: long (nullable = false)\n",
      " |-- tmdb_id: string (nullable = true)\n",
      " |-- imdb_id: string (nullable = true)\n",
      "\n",
      "+--------+-------+-------+\n",
      "|movie_id|tmdb_id|imdb_id|\n",
      "+--------+-------+-------+\n",
      "|1       |862    |114709 |\n",
      "|2       |8844   |113497 |\n",
      "|3       |15602  |113228 |\n",
      "|4       |31357  |114885 |\n",
      "|5       |11862  |113041 |\n",
      "+--------+-------+-------+\n",
      "only showing top 5 rows\n",
      "\n"
     ]
    },
    {
     "data": {
      "text/plain": [
       "45447"
      ]
     },
     "execution_count": 66,
     "metadata": {},
     "output_type": "execute_result"
    }
   ],
   "source": [
    "df_links = df_movie.select(f.col(\"id\").alias(\"movie_id\"), f.col(\"tmdb_id\"), f.col('imdb_id'))\n",
    "df_links = df_links.na.drop(subset=['tmdb_id', 'imdb_id'])\n",
    "df_links.printSchema()\n",
    "df_links.show(5, truncate=False) # Here is the Links table data\n",
    "df_links.count()"
   ]
  },
  {
   "cell_type": "code",
   "execution_count": 68,
   "id": "2f83181b-81de-468a-a982-ca506992be75",
   "metadata": {},
   "outputs": [
    {
     "name": "stdout",
     "output_type": "stream",
     "text": [
      "root\n",
      " |-- adult: string (nullable = true)\n",
      " |-- budget: string (nullable = true)\n",
      " |-- homepage: string (nullable = true)\n",
      " |-- original_language: string (nullable = true)\n",
      " |-- original_title: string (nullable = true)\n",
      " |-- overview: string (nullable = true)\n",
      " |-- popularity: string (nullable = true)\n",
      " |-- poster_path: string (nullable = true)\n",
      " |-- release_date: string (nullable = true)\n",
      " |-- revenue: string (nullable = true)\n",
      " |-- runtime: string (nullable = true)\n",
      " |-- status: string (nullable = true)\n",
      " |-- tagline: string (nullable = true)\n",
      " |-- title: string (nullable = true)\n",
      " |-- video: string (nullable = true)\n",
      " |-- vote_average: string (nullable = true)\n",
      " |-- vote_count: string (nullable = true)\n",
      " |-- id: long (nullable = false)\n",
      "\n",
      "+-----+--------+--------------------------------------------+-----------------+---------------------------+----------------------------------------------------------------------------------------------------------------------------------------------------------------------------------------------------------------------------------------------------------------------------------------------------------------------------------------------------------------------------------------------------------------------------------------------------------------+----------+--------------------------------+--------------------------------+---------------------------------------------------------------+----------------------------------------------------------+--------+------------------------------------------------------------------------------+----------------------------------------+--------+------------------------------------------------------------------------------+-----------------+---+\n",
      "|adult|budget  |homepage                                    |original_language|original_title             |overview                                                                                                                                                                                                                                                                                                                                                                                                                                                        |popularity|poster_path                     |release_date                    |revenue                                                        |runtime                                                   |status  |tagline                                                                       |title                                   |video   |vote_average                                                                  |vote_count       |id |\n",
      "+-----+--------+--------------------------------------------+-----------------+---------------------------+----------------------------------------------------------------------------------------------------------------------------------------------------------------------------------------------------------------------------------------------------------------------------------------------------------------------------------------------------------------------------------------------------------------------------------------------------------------+----------+--------------------------------+--------------------------------+---------------------------------------------------------------+----------------------------------------------------------+--------+------------------------------------------------------------------------------+----------------------------------------+--------+------------------------------------------------------------------------------+-----------------+---+\n",
      "|False|30000000|http://toystory.disney.com/toy-story        |en               |Toy Story                  |Led by Woody, Andy's toys live happily in his room until Andy's birthday brings Buzz Lightyear onto the scene. Afraid of losing his place in Andy's heart, Woody plots against Buzz. But when circumstances separate Buzz and Woody from their owner, the duo eventually learns to put aside their differences.                                                                                                                                                 |21.946943 |/rhIRbceoE9lR4veEXuwCC2wARtG.jpg|1995-10-30                      |373554033                                                      |81.0                                                      |Released|null                                                                          |Toy Story                               |False   |7.7                                                                           |5415             |1  |\n",
      "|False|65000000|null                                        |en               |Jumanji                    |When siblings Judy and Peter discover an enchanted board game that opens the door to a magical world, they unwittingly invite Alan -- an adult who's been trapped inside the game for 26 years -- into their living room. Alan's only hope for freedom is to finish the game, which proves risky as all three find themselves running from giant rhinoceroses, evil monkeys and other terrifying creatures.                                                     |17.015539 |/vzmL6fP7aPKNKPRTFnZmiUfciyV.jpg|1995-12-15                      |262797249                                                      |104.0                                                     |Released|Roll the dice and unleash the excitement!                                     |Jumanji                                 |False   |6.9                                                                           |2413             |2  |\n",
      "|False|0       |null                                        |en               |Grumpier Old Men           |A family wedding reignites the ancient feud between next-door neighbors and fishing buddies John and Max. Meanwhile, a sultry Italian divorcée opens a restaurant at the local bait shop, alarming the locals who worry she'll scare the fish away. But she's less interested in seafood than she is in cooking up a hot time with Max.                                                                                                                         |11.7129   |/6ksm1sjKMFLbO7UY2i6G1ju9SML.jpg|1995-12-22                      |0                                                              |101.0                                                     |Released|Still Yelling. Still Fighting. Still Ready for Love.                          |Grumpier Old Men                        |False   |6.5                                                                           |92               |3  |\n",
      "|False|16000000|null                                        |en               |Waiting to Exhale          |\"Cheated on, mistreated and stepped on, the women are holding their breath, waiting for the elusive \"\"good man\"\" to break a string of less-than-stellar lovers. Friends and confidants Vannah                                                                                                                                                                                                                                                                   | Bernie   | Glo and Robin talk it all out  |/16XOMpEaLWkrcPqSQqhTmeJuqQl.jpg|[{'name': 'Twentieth Century Fox Film Corporation', 'id': 306}]|[{'iso_3166_1': 'US', 'name': 'United States of America'}]|81452156|127.0                                                                         |[{'iso_639_1': 'en', 'name': 'English'}]|Released|Friends are the people who let you be yourself... and never let you forget it.|Waiting to Exhale|4  |\n",
      "|False|0       |null                                        |en               |Father of the Bride Part II|Just when George Banks has recovered from his daughter's wedding, he receives the news that she's pregnant ... and that George's wife, Nina, is expecting too. He was planning on selling their home, but that's a plan that -- like George -- will have to change with the arrival of both a grandchild and a kid of his own.                                                                                                                                  |8.387519  |/e64sOI48hQXyru7naBFyssKFxVd.jpg|1995-02-10                      |76578911                                                       |106.0                                                     |Released|Just When His World Is Back To Normal... He's In For The Surprise Of His Life!|Father of the Bride Part II             |False   |5.7                                                                           |173              |5  |\n",
      "|False|60000000|null                                        |en               |Heat                       |Obsessive master thief, Neil McCauley leads a top-notch crew on various insane heists throughout Los Angeles while a mentally unstable detective, Vincent Hanna pursues him without rest. Each man recognizes and respects the ability and the dedication of the other even though they are aware their cat-and-mouse game may end in violence.                                                                                                                 |17.924927 |/zMyfPUelumio3tiDKPffaUpsQTD.jpg|1995-12-15                      |187436818                                                      |170.0                                                     |Released|A Los Angeles Crime Saga                                                      |Heat                                    |False   |7.7                                                                           |1886             |6  |\n",
      "|False|58000000|null                                        |en               |Sabrina                    |An ugly duckling having undergone a remarkable change, still harbors feelings for her crush: a carefree playboy, but not before his business-focused brother has something to say about it.                                                                                                                                                                                                                                                                     |6.677277  |/jQh15y5YB7bWz1NtffNZmRw0s9D.jpg|1995-12-15                      |0                                                              |127.0                                                     |Released|You are cordially invited to the most surprising merger of the year.          |Sabrina                                 |False   |6.2                                                                           |141              |7  |\n",
      "|False|0       |null                                        |en               |Tom and Huck               |A mischievous young boy, Tom Sawyer, witnesses a murder by the deadly Injun Joe. Tom becomes friends with Huckleberry Finn, a boy with no future and no family. Tom has to choose between honoring a friendship or honoring an oath because the town alcoholic is accused of the murder. Tom and Huck go through several adventures trying to retrieve evidence.                                                                                                |2.561161  |/sGO5Qa55p7wTu7FJcX4H4xIVKvS.jpg|1995-12-22                      |0                                                              |97.0                                                      |Released|The Original Bad Boys.                                                        |Tom and Huck                            |False   |5.4                                                                           |45               |8  |\n",
      "|False|35000000|null                                        |en               |Sudden Death               |International action superstar Jean Claude Van Damme teams with Powers Boothe in a Tension-packed, suspense thriller, set against the back-drop of a Stanley Cup game.Van Damme portrays a father whose daughter is suddenly taken during a championship hockey game. With the captors demanding a billion dollars by game's end, Van Damme frantically sets a plan in motion to rescue his daughter and abort an impending explosion before the final buzzer...|5.23158   |/eoWvKD60lT95Ss1MYNgVExpo5iU.jpg|1995-12-22                      |64350171                                                       |106.0                                                     |Released|Terror goes into overtime.                                                    |Sudden Death                            |False   |5.5                                                                           |174              |9  |\n",
      "|False|58000000|http://www.mgm.com/view/movie/757/Goldeneye/|en               |GoldenEye                  |James Bond must unmask the mysterious head of the Janus Syndicate and prevent the leader from utilizing the GoldenEye weapons system to inflict devastating revenge on Britain.                                                                                                                                                                                                                                                                                 |14.686036 |/5c0ovjT41KnYIHYuF4AWsTe3sKh.jpg|1995-11-16                      |352194034                                                      |130.0                                                     |Released|No limits. No fears. No substitutes.                                          |GoldenEye                               |False   |6.6                                                                           |1194             |10 |\n",
      "+-----+--------+--------------------------------------------+-----------------+---------------------------+----------------------------------------------------------------------------------------------------------------------------------------------------------------------------------------------------------------------------------------------------------------------------------------------------------------------------------------------------------------------------------------------------------------------------------------------------------------+----------+--------------------------------+--------------------------------+---------------------------------------------------------------+----------------------------------------------------------+--------+------------------------------------------------------------------------------+----------------------------------------+--------+------------------------------------------------------------------------------+-----------------+---+\n",
      "only showing top 10 rows\n",
      "\n"
     ]
    }
   ],
   "source": [
    "df_movie = df_movie.drop('genres', 'production_companies', 'production_countries', 'spoken_languages', 'tmdb_id', 'imdb_id')\n",
    "df_movie.printSchema()\n",
    "df_movie.show(10, truncate=False) # Here is the moives table data"
   ]
  },
  {
   "cell_type": "code",
   "execution_count": 69,
   "id": "aa956b3d-950b-4e33-9166-cb146d477aea",
   "metadata": {},
   "outputs": [
    {
     "name": "stdout",
     "output_type": "stream",
     "text": [
      "root\n",
      " |-- movie_id: string (nullable = true)\n",
      " |-- rating: string (nullable = true)\n",
      " |-- timestamp: string (nullable = true)\n",
      "\n",
      "+--------+------+----------+\n",
      "|movie_id|rating|timestamp |\n",
      "+--------+------+----------+\n",
      "|110     |1.0   |1425941529|\n",
      "|147     |4.5   |1425942435|\n",
      "|858     |5.0   |1425941523|\n",
      "|1221    |5.0   |1425941546|\n",
      "|1246    |5.0   |1425941556|\n",
      "|1968    |4.0   |1425942148|\n",
      "|2762    |4.5   |1425941300|\n",
      "|2918    |5.0   |1425941593|\n",
      "|2959    |4.0   |1425941601|\n",
      "|4226    |4.0   |1425942228|\n",
      "+--------+------+----------+\n",
      "only showing top 10 rows\n",
      "\n"
     ]
    },
    {
     "name": "stderr",
     "output_type": "stream",
     "text": [
      "22/06/13 23:41:22 ERROR TaskSchedulerImpl: Lost executor 0 on 172.27.7.53: Remote RPC client disassociated. Likely due to containers exceeding thresholds, or network issues. Check driver logs for WARN messages.\n",
      "22/06/13 23:41:22 WARN BlockManagerMasterEndpoint: No more replicas available for rdd_46_1 !\n",
      "22/06/13 23:41:22 WARN BlockManagerMasterEndpoint: No more replicas available for rdd_46_0 !\n",
      "22/06/13 23:41:22 WARN BlockManagerMasterEndpoint: No more replicas available for rdd_57_0 !\n",
      "22/06/13 23:41:22 WARN BlockManagerMasterEndpoint: No more replicas available for rdd_116_1 !\n",
      "22/06/13 23:41:22 WARN BlockManagerMasterEndpoint: No more replicas available for rdd_116_0 !\n",
      "22/06/13 23:41:22 WARN BlockManagerMasterEndpoint: No more replicas available for rdd_57_1 !\n",
      "22/06/13 23:41:48 WARN StandaloneAppClient$ClientEndpoint: Connection to ZHUYANZHAO-HWPC.localdomain:7077 failed; waiting for master to reconnect...\n",
      "22/06/13 23:41:48 WARN StandaloneSchedulerBackend: Disconnected from Spark cluster! Waiting for reconnection...\n",
      "22/06/13 23:41:48 WARN StandaloneAppClient$ClientEndpoint: Connection to ZHUYANZHAO-HWPC.localdomain:7077 failed; waiting for master to reconnect...\n"
     ]
    }
   ],
   "source": [
    "df_ratings = spark.read.option(\"header\",\"true\").csv(\"./ratings.csv\")\n",
    "df_ratings = df_ratings.drop('userId').withColumnRenamed('movieId', 'movie_id').na.drop(subset=['movie_id', 'rating'])\n",
    "df_ratings.printSchema()\n",
    "df_ratings.show(10, truncate=False) # Here is the Ratings table data"
   ]
  },
  {
   "cell_type": "code",
   "execution_count": null,
   "id": "6ee961b3-79ea-458b-81d5-97ff47998f91",
   "metadata": {},
   "outputs": [],
   "source": []
  }
 ],
 "metadata": {
  "kernelspec": {
   "display_name": "Python 3 (ipykernel)",
   "language": "python",
   "name": "python3"
  },
  "language_info": {
   "codemirror_mode": {
    "name": "ipython",
    "version": 3
   },
   "file_extension": ".py",
   "mimetype": "text/x-python",
   "name": "python",
   "nbconvert_exporter": "python",
   "pygments_lexer": "ipython3",
   "version": "3.9.7"
  }
 },
 "nbformat": 4,
 "nbformat_minor": 5
}
