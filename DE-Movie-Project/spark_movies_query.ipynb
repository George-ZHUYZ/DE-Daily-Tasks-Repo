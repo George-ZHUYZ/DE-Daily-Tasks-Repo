{
 "cells": [
  {
   "cell_type": "code",
   "execution_count": null,
   "id": "62be9725-0527-4b1a-b2fa-fdf1891b6b03",
   "metadata": {},
   "outputs": [],
   "source": [
    "import findspark\n",
    "findspark.init()\n",
    "\n",
    "from pyspark.sql import SparkSession\n",
    "import pyspark.sql.functions as f"
   ]
  },
  {
   "cell_type": "code",
   "execution_count": null,
   "id": "b6656889-7806-49a3-a762-ced005adbf4d",
   "metadata": {},
   "outputs": [],
   "source": [
    "spark = SparkSession \\\n",
    "    .builder \\\n",
    "    .appName(\"Spark_movies_query\") \\\n",
    "    .config(\"spark.master\", \"spark://ZHUYANZHAO-HWPC.localdomain:7077\") \\\n",
    "    .config(\"spark.jars.packages\", \"mysql:mysql-connector-java:8.0.22\") \\\n",
    "    .config(\"spark.executor.cores\", \"2\") \\\n",
    "    .config(\"spark.executor.num\", \"1\") \\\n",
    "    .getOrCreate()"
   ]
  },
  {
   "cell_type": "code",
   "execution_count": null,
   "id": "3982ae61-7e7c-4e4d-b7af-aedb6ffd4934",
   "metadata": {},
   "outputs": [],
   "source": [
    "df_movies = spark.read.format(\"jdbc\") \\\n",
    "    .options(driver = \"com.mysql.cj.jdbc.Driver\",\n",
    "        url = \"jdbc:mysql://localhost:3306/spark_movies\",\n",
    "        dbtable = \"movies\",\n",
    "        user = \"root\",\n",
    "        password = \"zhuyz928\"\n",
    "        ).load()\n",
    "df_movies_prod_companies =  spark.read.format(\"jdbc\") \\\n",
    "    .options(driver = \"com.mysql.cj.jdbc.Driver\",\n",
    "        url = \"jdbc:mysql://localhost:3306/spark_movies\",\n",
    "        dbtable = \"movie_prod_companies\",\n",
    "        user = \"root\",\n",
    "        password = \"zhuyz928\"\n",
    "        ).load()"
   ]
  },
  {
   "cell_type": "code",
   "execution_count": null,
   "id": "1f41ad3f-10d1-436e-9198-f717d9bf06e2",
   "metadata": {},
   "outputs": [],
   "source": [
    "## First query: Get all movies produced by \"Marvel Studios\", and show the results as the Descending order by vote_average\n",
    "df_movies_prod_companies = df_movies_prod_companies.withColumnRenamed('name', 'company_name')\n",
    "df_movies_joined = df_movies_prod_companies.join(df_movies, df_movies.tmdb_id == df_movies_prod_companies.movie_tmdb_id,\"left\")\n",
    "df_result = df_movies_joined.where(df_movies_joined.company_name == 'Marvel Studios') \\\n",
    "    .na.drop(subset=['vote_average']) \\\n",
    "    .sort(f.col('vote_average').desc())\n",
    "df_result.show(df_result.count())"
   ]
  },
  {
   "cell_type": "code",
   "execution_count": null,
   "id": "a6bad040-a6ff-40ee-b88e-ce47fbe48260",
   "metadata": {},
   "outputs": [],
   "source": [
    "## Second query: List the movie with the biggest profit ratio within each genre after 2000-01-01\n",
    "df_movies_genres =  spark.read.format(\"jdbc\") \\\n",
    "    .options(driver = \"com.mysql.cj.jdbc.Driver\",\n",
    "        url = \"jdbc:mysql://localhost:3306/spark_movies\",\n",
    "        dbtable = \"movie_genres\",\n",
    "        user = \"root\",\n",
    "        password = \"zhuyz928\"\n",
    "        ).load()\n",
    "df_movies = df_movies.withColumn('release_date', f.to_date(f.col('release_date')))\n",
    "df_movies_filtered = df_movies.na.drop(subset=['budget', 'revenue']) \\\n",
    "    .filter((f.col('budget') > 0) & (f.col('revenue') > 0)) \\\n",
    "    .filter(f.col('revenue') >= f.col('budget')) \\\n",
    "    .filter(f.col('release_date') >= f.lit(\"2000-01-01\"))\n",
    "df_movies_filtered.count()"
   ]
  },
  {
   "cell_type": "code",
   "execution_count": null,
   "id": "9fbc071b-02f9-4601-bd9a-6ad38613f717",
   "metadata": {},
   "outputs": [],
   "source": [
    "df_movies_filtered = df_movies_filtered.withColumn('profit_ratio', f.round(f.col('revenue') / f.col('budget'), 2))\n",
    "df_movies_genres = df_movies_genres.na.drop('any')\n",
    "df_movies_joined = df_movies_genres.join(df_movies_filtered, df_movies_filtered.tmdb_id == df_movies_genres.movie_tmdb_id, \"inner\") \\\n",
    "    .withColumnRenamed('name', 'genre_name')\n",
    "df_movies_joined.count()"
   ]
  },
  {
   "cell_type": "code",
   "execution_count": null,
   "id": "b3da0ee8-8a7d-41c9-85fe-485454a3f4a4",
   "metadata": {},
   "outputs": [],
   "source": [
    "from pyspark.sql.window import Window\n",
    "windowMovie = Window.partitionBy('genre_name').orderBy(f.col('profit_ratio').desc())\n",
    "df_result = df_movies_joined.withColumn('row', f.row_number().over(windowMovie)) \\\n",
    "  .filter(f.col(\"row\") == 1).drop(\"row\") \\\n",
    "  .show()"
   ]
  }
 ],
 "metadata": {
  "kernelspec": {
   "display_name": "Python 3 (ipykernel)",
   "language": "python",
   "name": "python3"
  },
  "language_info": {
   "codemirror_mode": {
    "name": "ipython",
    "version": 3
   },
   "file_extension": ".py",
   "mimetype": "text/x-python",
   "name": "python",
   "nbconvert_exporter": "python",
   "pygments_lexer": "ipython3",
   "version": "3.9.7"
  }
 },
 "nbformat": 4,
 "nbformat_minor": 5
}
