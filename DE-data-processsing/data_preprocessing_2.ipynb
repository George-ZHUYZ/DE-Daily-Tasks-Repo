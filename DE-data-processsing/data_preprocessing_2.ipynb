{
 "cells": [
  {
   "cell_type": "code",
   "execution_count": 1,
   "id": "355c5b67-5478-47d4-8995-a89eeead1747",
   "metadata": {},
   "outputs": [],
   "source": [
    "import pandas as pd"
   ]
  },
  {
   "cell_type": "code",
   "execution_count": 2,
   "id": "3cf82f5a-9226-4583-b7d8-2ef12b0a2fc6",
   "metadata": {},
   "outputs": [],
   "source": [
    "df_admin = pd.read_excel(r\"NZ_Admin_JOBS.xlsx\", header=None, skiprows=[0])"
   ]
  },
  {
   "cell_type": "code",
   "execution_count": 3,
   "id": "336bfe8a-0c27-485d-ac5a-015ac47deff3",
   "metadata": {},
   "outputs": [
    {
     "data": {
      "text/plain": [
       "0                              Administrator\n",
       "1                               Receptionist\n",
       "2               Prosecutions Support Officer\n",
       "3       Early Childhood Centre Administrator\n",
       "4             Business Support Administrator\n",
       "                        ...                 \n",
       "2703                     Key Account Manager\n",
       "2704                     Executive Assistant\n",
       "2705                  Temporary Office Roles\n",
       "2706                  Temporary Office Roles\n",
       "2707                     Executive Assistant\n",
       "Name: 0, Length: 2708, dtype: object"
      ]
     },
     "execution_count": 3,
     "metadata": {},
     "output_type": "execute_result"
    }
   ],
   "source": [
    "df_admin[0] = df_admin[0].str.title()\n",
    "df_admin[0]"
   ]
  },
  {
   "cell_type": "code",
   "execution_count": 4,
   "id": "524eb1dd-f909-4e94-a44c-70f0d8c5b5a0",
   "metadata": {},
   "outputs": [],
   "source": [
    "def extract_job_id(x):\n",
    "    startPos = x.index('?type=')\n",
    "    return x[startPos-8:startPos]"
   ]
  },
  {
   "cell_type": "code",
   "execution_count": 5,
   "id": "0185aaab-f9ce-4f2a-be8d-cee843e06670",
   "metadata": {},
   "outputs": [],
   "source": [
    "def extract_job_type(x):\n",
    "    startPos = x.index('?type=')\n",
    "    endPos = x.index('#')\n",
    "    return x[startPos+6:endPos]"
   ]
  },
  {
   "cell_type": "code",
   "execution_count": 7,
   "id": "d115a18a-e69c-498a-8613-4df7a48d06a7",
   "metadata": {},
   "outputs": [
    {
     "data": {
      "text/html": [
       "<div>\n",
       "<style scoped>\n",
       "    .dataframe tbody tr th:only-of-type {\n",
       "        vertical-align: middle;\n",
       "    }\n",
       "\n",
       "    .dataframe tbody tr th {\n",
       "        vertical-align: top;\n",
       "    }\n",
       "\n",
       "    .dataframe thead th {\n",
       "        text-align: right;\n",
       "    }\n",
       "</style>\n",
       "<table border=\"1\" class=\"dataframe\">\n",
       "  <thead>\n",
       "    <tr style=\"text-align: right;\">\n",
       "      <th></th>\n",
       "      <th>job_id</th>\n",
       "      <th>job_type</th>\n",
       "    </tr>\n",
       "  </thead>\n",
       "  <tbody>\n",
       "    <tr>\n",
       "      <th>0</th>\n",
       "      <td>50582301</td>\n",
       "      <td>promoted</td>\n",
       "    </tr>\n",
       "    <tr>\n",
       "      <th>1</th>\n",
       "      <td>50620889</td>\n",
       "      <td>promoted</td>\n",
       "    </tr>\n",
       "    <tr>\n",
       "      <th>2</th>\n",
       "      <td>50622169</td>\n",
       "      <td>standard</td>\n",
       "    </tr>\n",
       "    <tr>\n",
       "      <th>3</th>\n",
       "      <td>50639620</td>\n",
       "      <td>standard</td>\n",
       "    </tr>\n",
       "    <tr>\n",
       "      <th>4</th>\n",
       "      <td>50622432</td>\n",
       "      <td>standout</td>\n",
       "    </tr>\n",
       "    <tr>\n",
       "      <th>...</th>\n",
       "      <td>...</td>\n",
       "      <td>...</td>\n",
       "    </tr>\n",
       "    <tr>\n",
       "      <th>2703</th>\n",
       "      <td>50490062</td>\n",
       "      <td>standout</td>\n",
       "    </tr>\n",
       "    <tr>\n",
       "      <th>2704</th>\n",
       "      <td>50488000</td>\n",
       "      <td>standout</td>\n",
       "    </tr>\n",
       "    <tr>\n",
       "      <th>2705</th>\n",
       "      <td>50524865</td>\n",
       "      <td>standout</td>\n",
       "    </tr>\n",
       "    <tr>\n",
       "      <th>2706</th>\n",
       "      <td>50477118</td>\n",
       "      <td>standout</td>\n",
       "    </tr>\n",
       "    <tr>\n",
       "      <th>2707</th>\n",
       "      <td>50496571</td>\n",
       "      <td>standout</td>\n",
       "    </tr>\n",
       "  </tbody>\n",
       "</table>\n",
       "<p>2708 rows × 2 columns</p>\n",
       "</div>"
      ],
      "text/plain": [
       "        job_id  job_type\n",
       "0     50582301  promoted\n",
       "1     50620889  promoted\n",
       "2     50622169  standard\n",
       "3     50639620  standard\n",
       "4     50622432  standout\n",
       "...        ...       ...\n",
       "2703  50490062  standout\n",
       "2704  50488000  standout\n",
       "2705  50524865  standout\n",
       "2706  50477118  standout\n",
       "2707  50496571  standout\n",
       "\n",
       "[2708 rows x 2 columns]"
      ]
     },
     "execution_count": 7,
     "metadata": {},
     "output_type": "execute_result"
    }
   ],
   "source": [
    "df_admin['job_id'] = df_admin[1].apply(extract_job_id)\n",
    "df_admin['job_type']= df_admin[1].apply(extract_job_type)\n",
    "df_admin[['job_id', 'job_type']]"
   ]
  },
  {
   "cell_type": "code",
   "execution_count": 8,
   "id": "f6bb1251-842b-4aac-b70a-c3a5d529af37",
   "metadata": {},
   "outputs": [
    {
     "data": {
      "text/plain": [
       "22"
      ]
     },
     "execution_count": 8,
     "metadata": {},
     "output_type": "execute_result"
    }
   ],
   "source": [
    "df_admin[2].isnull().sum()"
   ]
  },
  {
   "cell_type": "code",
   "execution_count": null,
   "id": "f6d2d306-07ef-427a-9f3f-96fb960c4b77",
   "metadata": {},
   "outputs": [],
   "source": []
  }
 ],
 "metadata": {
  "kernelspec": {
   "display_name": "Python 3 (ipykernel)",
   "language": "python",
   "name": "python3"
  },
  "language_info": {
   "codemirror_mode": {
    "name": "ipython",
    "version": 3
   },
   "file_extension": ".py",
   "mimetype": "text/x-python",
   "name": "python",
   "nbconvert_exporter": "python",
   "pygments_lexer": "ipython3",
   "version": "3.9.7"
  }
 },
 "nbformat": 4,
 "nbformat_minor": 5
}
