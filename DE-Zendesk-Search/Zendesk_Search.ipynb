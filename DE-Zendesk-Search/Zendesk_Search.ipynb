{
 "cells": [
  {
   "cell_type": "code",
   "execution_count": 1,
   "id": "c7923fd8-cc23-4fd6-a05c-b4feebb74910",
   "metadata": {},
   "outputs": [],
   "source": [
    "import pandas as pd\n",
    "from pandas.api.types import is_string_dtype\n",
    "from pandas.api.types import is_numeric_dtype\n",
    "from pandas.api.types import is_datetime64_ns_dtype\n",
    "import inflect"
   ]
  },
  {
   "cell_type": "code",
   "execution_count": 2,
   "id": "4319d374-fb47-46b8-8fc9-17376c13b5cd",
   "metadata": {},
   "outputs": [],
   "source": [
    "def populate_org_dict(target_df):\n",
    "    result = {}\n",
    "\n",
    "    for i in range(len(target_df)):\n",
    "        org_id = target_df.loc[i, 'organization_id']\n",
    "        org_id = int(org_id) if not pd.isnull(org_id) else 0\n",
    "\n",
    "        if org_id in result:\n",
    "            result[org_id] += ', ' + str(target_df.loc[i, '_id'])\n",
    "        else:\n",
    "            result[org_id] = str(target_df.loc[i, '_id'])\n",
    "    return result"
   ]
  },
  {
   "cell_type": "code",
   "execution_count": 3,
   "id": "fe15b5e7-7890-4ca7-aeb7-5e081c0a42d2",
   "metadata": {},
   "outputs": [],
   "source": [
    "def generate_org_full_table(ticket_dict, user_dict):\n",
    "    try:\n",
    "        df_ticket_dict = pd.DataFrame(ticket_dict.items(), columns=['_id', 'tickets'])\n",
    "        df_user_dict = pd.DataFrame(user_dict.items(), columns=['_id', 'users'])\n",
    "        df_orgs_tmp = df_orgs.copy(deep=True)\n",
    "\n",
    "        return pd.merge(pd.merge(df_orgs_tmp, df_ticket_dict, how='left', on='_id'), df_user_dict, how='left', on='_id')\n",
    "    except BaseException as error:\n",
    "        print('An exception occurred: {}'.format(error))\n",
    "        return False"
   ]
  },
  {
   "cell_type": "code",
   "execution_count": 4,
   "id": "a64e6ee4-9407-4d75-9e69-9c92d0846481",
   "metadata": {},
   "outputs": [],
   "source": [
    "def generate_user_tkt_full_table(table_name, table_df, org_dict):\n",
    "    new_column_name = 'users' if table_name == 'tickets' else 'tickets'\n",
    "    table_df[new_column_name] = [list() for x in range(len(table_df.index))]                     \n",
    "    \n",
    "    for i in range(len(table_df)):\n",
    "        organization_id = table_df.loc[i, 'organization_id']\n",
    "        if organization_id in org_dict:\n",
    "            table_df.at[i, new_column_name] = org_dict[organization_id].split(', ')\n",
    "    \n",
    "    return table_df"
   ]
  },
  {
   "cell_type": "code",
   "execution_count": 5,
   "id": "637134a8-d16a-458a-8b8c-41995bb01aee",
   "metadata": {},
   "outputs": [],
   "source": [
    "def get_column_type(target_df, column):\n",
    "    if column in target_df.columns:\n",
    "        if is_string_dtype(target_df[column]):\n",
    "            return 'string'\n",
    "        elif is_numeric_dtype(target_df[column]):\n",
    "            return 'int'\n",
    "        elif is_datetime64_ns_dtype(target_df[column]):\n",
    "            return 'datetime'\n",
    "        else:\n",
    "            return 'unknown'\n",
    "    else:\n",
    "        return 'unknown'"
   ]
  },
  {
   "cell_type": "code",
   "execution_count": 6,
   "id": "b7700673-405d-4443-ae25-f0e76a58a9ee",
   "metadata": {},
   "outputs": [],
   "source": [
    "# def print_formatted_result(result):\n",
    "#     n_ordinal = inflect.engine()\n",
    "    \n",
    "#     if result.empty:\n",
    "#         print('Search {0} for {1} with a value of {2}\\nNo results found'.format(query_table, query_column, query_value[1]))\n",
    "#     else:\n",
    "#         columns = list(result.columns)\n",
    "#         for i in range(len(result)):\n",
    "#             for j in range(len(columns)):\n",
    "#                 print('{0}: {1}\\n'.format(columns[j], result.iloc[i, j]))\n",
    "#             print('====== End of the %s result ======' % n_ordinal.ordinal(i+1))"
   ]
  },
  {
   "cell_type": "code",
   "execution_count": 7,
   "id": "1d61be27-1084-476b-84d4-fdd587a8b71c",
   "metadata": {},
   "outputs": [],
   "source": [
    "def equal_query(target_df, column, column_type, value):\n",
    "    global query_result\n",
    "    \n",
    "    if column_type == 'int':\n",
    "        try:\n",
    "            value = int(value)\n",
    "        except ValueError:\n",
    "            query_result = pd.DataFrame()\n",
    "            return False\n",
    "\n",
    "    query_result = target_df[target_df[column] == value]"
   ]
  },
  {
   "cell_type": "code",
   "execution_count": 8,
   "id": "ce35590b-f555-47e6-a128-2d8dbbc26f50",
   "metadata": {},
   "outputs": [],
   "source": [
    "def like_query(target_df, column, value):\n",
    "    global query_result\n",
    "    \n",
    "    query_result = target_df[target_df[column].str.contains(value, na=False)]"
   ]
  },
  {
   "cell_type": "code",
   "execution_count": 9,
   "id": "05c5ed4e-7c1c-47ac-a365-489e30a61d7f",
   "metadata": {},
   "outputs": [],
   "source": [
    "def parse_query(input_2, input_3, input_4):\n",
    "    CONST_TABLES_DICT = {1: ['users', 'users'], 2: ['tickets', 'tickets'], 3: ['orgs', 'organizations']}\n",
    "    \n",
    "    target_df = globals()['df_' + CONST_TABLES_DICT[input_2][0] + '_full']\n",
    "    \n",
    "    global query_table\n",
    "    query_table = CONST_TABLES_DICT[input_2][1]\n",
    "    \n",
    "    global query_column\n",
    "    query_column =  input_3\n",
    "    \n",
    "    global query_value\n",
    "    query_value = input_4.split('@@')\n",
    "    \n",
    "    global query_result\n",
    "\n",
    "    if query_column not in target_df.columns or query_value[1] == '':\n",
    "        # Return empty result if the search column is invalide or the serach value is null\n",
    "        query_result = pd.DataFrame()\n",
    "        return False\n",
    "    \n",
    "    column_type = get_column_type(target_df, query_column)\n",
    "    \n",
    "    if query_value[0] == 'equal':\n",
    "        equal_query(target_df, query_column, column_type, query_value[1])\n",
    "    elif query_value[0] == 'like':\n",
    "        if column_type == 'int':\n",
    "            # Return empty result if try to search int column with like values\n",
    "            query_result = pd.DataFrame()\n",
    "            return False\n",
    "        \n",
    "        like_query(target_df, query_column, query_value[1])\n",
    "    ## To-DO: Add more type of query functions, and also will support multiple columns query"
   ]
  },
  {
   "cell_type": "code",
   "execution_count": 10,
   "id": "5552c844-30d9-4f83-b6e0-6432d362034e",
   "metadata": {},
   "outputs": [],
   "source": [
    "df_tickets = pd.read_json('tickets.json')\n",
    "df_users = pd.read_json('users.json')\n",
    "df_orgs = pd.read_json('organizations.json')\n",
    "\n",
    "org_to_tkt_dict = populate_org_dict(df_tickets)\n",
    "df_users_full = generate_user_tkt_full_table('users', df_users.copy(deep=True), org_to_tkt_dict)\n",
    "\n",
    "org_to_user_dict = populate_org_dict(df_users)\n",
    "df_tickets_full = generate_user_tkt_full_table('tickets', df_tickets.copy(deep=True), org_to_user_dict)\n",
    "\n",
    "df_orgs_full = generate_org_full_table(org_to_tkt_dict, org_to_user_dict)\n",
    "\n",
    "query_table = None\n",
    "query_column = None\n",
    "query_value = None"
   ]
  },
  {
   "cell_type": "code",
   "execution_count": 11,
   "id": "82c0b48f-e603-4731-a22e-8f00f804ca81",
   "metadata": {},
   "outputs": [],
   "source": [
    "def validate_result(expectations):\n",
    "    validation_msg = ''\n",
    "    if len(expectations) == 0:\n",
    "        validation_msg = \"\\u2713 Passed\" if query_result.empty else 'XXX Failed XXX'\n",
    "    elif query_result.empty:\n",
    "        validation_msg = \"\\u2713 Passed\" if len(expectations) == 0 else 'XXX Failed XXX'\n",
    "    else:\n",
    "        result_ids = query_result['_id'].tolist()\n",
    "        result_ids.sort()\n",
    "        expectations.sort()\n",
    "        validation_msg = \"\\u2713 Passed\" if result_ids == expectations else 'XXX Failed XXX'\n",
    "            \n",
    "    print('Search {0} for {1} with a value of {2}: {3}'.format(query_table, query_column, query_value[1], validation_msg))"
   ]
  },
  {
   "cell_type": "code",
   "execution_count": 12,
   "id": "78f4f049-82ba-47cb-ade7-4b974700f8f6",
   "metadata": {},
   "outputs": [
    {
     "name": "stdout",
     "output_type": "stream",
     "text": [
      "Search users for _id with a value of 111: ✓ Passed\n",
      "Search users for _ic with a value of 1: ✓ Passed\n",
      "Search users for role with a value of admin: ✓ Passed\n",
      "Search users for _id with a value of : ✓ Passed\n",
      "Search users for _id with a value of 1: ✓ Passed\n",
      "Search tickets for _id with a value of 436bf9b0: ✓ Passed\n",
      "Search organizations for _id with a value of test: ✓ Passed\n",
      "Search organizations for _id with a value of -1: ✓ Passed\n",
      "Search organizations for _id with a value of 106: ✓ Passed\n",
      "Search organizations for _id with a value of   110  : ✓ Passed\n"
     ]
    }
   ],
   "source": [
    "# Simple unit tests\n",
    "parse_query(1, '_id', 'equal@@111')\n",
    "validate_result([])\n",
    "parse_query(1, '_ic', 'equal@@1')\n",
    "validate_result([])\n",
    "parse_query(1, 'role', 'equal@@admin')\n",
    "validate_result([1, 2, 5, 7, 14, 17, 18, 21, 25, 28, 33, 37, 45, 46, 50, 54, 57, 60, 63, 64, 65, 66, 68, 74])\n",
    "parse_query(1, '_id', 'equal@@')\n",
    "validate_result([])\n",
    "parse_query(1, '_id', 'like@@1')\n",
    "validate_result([])\n",
    "parse_query(2, '_id', 'like@@436bf9b0')\n",
    "validate_result(['436bf9b0-1147-4c0a-8439-6f79833bff5b'])\n",
    "parse_query(3, '_id', 'equal@@test')\n",
    "validate_result([])\n",
    "parse_query(3, '_id', 'equal@@-1')\n",
    "validate_result([])\n",
    "parse_query(3, '_id', 'equal@@106')\n",
    "validate_result([106])\n",
    "parse_query(3, '_id', 'equal@@  110  ')\n",
    "validate_result([110])"
   ]
  }
 ],
 "metadata": {
  "kernelspec": {
   "display_name": "Python 3 (ipykernel)",
   "language": "python",
   "name": "python3"
  },
  "language_info": {
   "codemirror_mode": {
    "name": "ipython",
    "version": 3
   },
   "file_extension": ".py",
   "mimetype": "text/x-python",
   "name": "python",
   "nbconvert_exporter": "python",
   "pygments_lexer": "ipython3",
   "version": "3.9.7"
  }
 },
 "nbformat": 4,
 "nbformat_minor": 5
}
